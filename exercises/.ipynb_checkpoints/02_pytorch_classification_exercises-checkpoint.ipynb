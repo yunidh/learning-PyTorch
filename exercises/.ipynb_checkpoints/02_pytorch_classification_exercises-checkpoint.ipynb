{
 "cells": [
  {
   "cell_type": "markdown",
   "metadata": {
    "colab_type": "text",
    "id": "view-in-github"
   },
   "source": [
    "<a href=\"https://colab.research.google.com/github/mrdbourke/pytorch-deep-learning/blob/main/extras/exercises/02_pytorch_classification_exercises.ipynb\" target=\"_parent\"><img src=\"https://colab.research.google.com/assets/colab-badge.svg\" alt=\"Open In Colab\"/></a>"
   ]
  },
  {
   "cell_type": "markdown",
   "metadata": {
    "id": "ZKJFt7YxH8yl"
   },
   "source": [
    "# 02. PyTorch Classification Exercises\n",
    "\n",
    "The following is a template for 02. PyTorch Classification exercises.\n",
    "\n",
    "It's only starter code and it's your job to fill in the blanks.\n",
    "\n",
    "Because of the flexibility of PyTorch, there may be more than one way to answer the question.\n",
    "\n",
    "Don't worry about trying to be *right* just try writing code that suffices the question.\n",
    "\n",
    "## Resources\n",
    "* These exercises are based on [notebook 02 of the learn PyTorch course](https://www.learnpytorch.io/02_pytorch_classification/).\n",
    "* You can see one form of [solutions on GitHub](https://github.com/mrdbourke/pytorch-deep-learning/tree/main/extras/solutions) (but try the exercises below yourself first!)."
   ]
  },
  {
   "cell_type": "code",
   "execution_count": 1,
   "metadata": {
    "id": "CSrUPgapO0tf"
   },
   "outputs": [
    {
     "data": {
      "text/plain": [
       "'cuda'"
      ]
     },
     "execution_count": 1,
     "metadata": {},
     "output_type": "execute_result"
    }
   ],
   "source": [
    "# Import torch\n",
    "import torch\n",
    "import numpy as np\n",
    "\n",
    "# Setup device agnostic code\n",
    "device = 'cuda' if torch.cuda.is_available() else 'cpu'\n",
    "\n",
    "# Setup random seed\n",
    "RANDOM_SEED = 42\n",
    "device"
   ]
  },
  {
   "cell_type": "markdown",
   "metadata": {
    "id": "pH7jIZ2SPFee"
   },
   "source": [
    "## 1. Make a binary classification dataset with Scikit-Learn's [`make_moons()`](https://scikit-learn.org/stable/modules/generated/sklearn.datasets.make_moons.html) function.\n",
    "  * For consistency, the dataset should have 1000 samples and a `random_state=42`.\n",
    "  * Turn the data into PyTorch tensors. \n",
    "  * Split the data into training and test sets using `train_test_split` with 80% training and 20% testing."
   ]
  },
  {
   "cell_type": "code",
   "execution_count": 2,
   "metadata": {
    "id": "5t4VhPV1PX1X"
   },
   "outputs": [],
   "source": [
    "# Create a dataset with Scikit-Learn's make_moons()\n",
    "from sklearn.datasets import make_moons\n",
    "X,y = make_moons(n_samples=1000,random_state = 42)"
   ]
  },
  {
   "cell_type": "code",
   "execution_count": 3,
   "metadata": {},
   "outputs": [
    {
     "data": {
      "text/plain": [
       "(1000, 2)"
      ]
     },
     "execution_count": 3,
     "metadata": {},
     "output_type": "execute_result"
    }
   ],
   "source": [
    "X.shape"
   ]
  },
  {
   "cell_type": "code",
   "execution_count": 4,
   "metadata": {},
   "outputs": [
    {
     "data": {
      "text/plain": [
       "array([0, 1], dtype=int64)"
      ]
     },
     "execution_count": 4,
     "metadata": {},
     "output_type": "execute_result"
    }
   ],
   "source": [
    "np.unique(y)"
   ]
  },
  {
   "cell_type": "code",
   "execution_count": 5,
   "metadata": {
    "id": "SUeHZ3-3P9C7"
   },
   "outputs": [
    {
     "data": {
      "text/html": [
       "<div>\n",
       "<style scoped>\n",
       "    .dataframe tbody tr th:only-of-type {\n",
       "        vertical-align: middle;\n",
       "    }\n",
       "\n",
       "    .dataframe tbody tr th {\n",
       "        vertical-align: top;\n",
       "    }\n",
       "\n",
       "    .dataframe thead th {\n",
       "        text-align: right;\n",
       "    }\n",
       "</style>\n",
       "<table border=\"1\" class=\"dataframe\">\n",
       "  <thead>\n",
       "    <tr style=\"text-align: right;\">\n",
       "      <th></th>\n",
       "      <th>X</th>\n",
       "      <th>Y</th>\n",
       "      <th>Label</th>\n",
       "    </tr>\n",
       "  </thead>\n",
       "  <tbody>\n",
       "    <tr>\n",
       "      <th>0</th>\n",
       "      <td>0.008727</td>\n",
       "      <td>0.368174</td>\n",
       "      <td>1</td>\n",
       "    </tr>\n",
       "    <tr>\n",
       "      <th>1</th>\n",
       "      <td>0.921384</td>\n",
       "      <td>-0.496905</td>\n",
       "      <td>1</td>\n",
       "    </tr>\n",
       "    <tr>\n",
       "      <th>2</th>\n",
       "      <td>0.940226</td>\n",
       "      <td>-0.498212</td>\n",
       "      <td>1</td>\n",
       "    </tr>\n",
       "    <tr>\n",
       "      <th>3</th>\n",
       "      <td>0.465875</td>\n",
       "      <td>-0.345406</td>\n",
       "      <td>1</td>\n",
       "    </tr>\n",
       "    <tr>\n",
       "      <th>4</th>\n",
       "      <td>-0.850412</td>\n",
       "      <td>0.526117</td>\n",
       "      <td>0</td>\n",
       "    </tr>\n",
       "  </tbody>\n",
       "</table>\n",
       "</div>"
      ],
      "text/plain": [
       "          X         Y  Label\n",
       "0  0.008727  0.368174      1\n",
       "1  0.921384 -0.496905      1\n",
       "2  0.940226 -0.498212      1\n",
       "3  0.465875 -0.345406      1\n",
       "4 -0.850412  0.526117      0"
      ]
     },
     "execution_count": 5,
     "metadata": {},
     "output_type": "execute_result"
    }
   ],
   "source": [
    "# Turn data into a DataFrame\n",
    "import pandas as pd\n",
    "df = pd.DataFrame(data={'X':X[:,0],'Y':X[:,1],'Label':y})\n",
    "df.head()"
   ]
  },
  {
   "cell_type": "code",
   "execution_count": 6,
   "metadata": {
    "id": "owrkPSFvQPFI"
   },
   "outputs": [
    {
     "data": {
      "text/plain": [
       "<matplotlib.collections.PathCollection at 0x21857c44050>"
      ]
     },
     "execution_count": 6,
     "metadata": {},
     "output_type": "execute_result"
    },
    {
     "data": {
      "image/png": "[encoded data removed]",
      "text/plain": [
       "<Figure size 1000x500 with 1 Axes>"
      ]
     },
     "metadata": {},
     "output_type": "display_data"
    }
   ],
   "source": [
    "# Visualize the data on a scatter plot\n",
    "import matplotlib.pyplot as plt\n",
    "plt.figure(figsize=(10,5))\n",
    "plt.scatter(x=df['X'],y=df['Y'],c=df['Label'])"
   ]
  },
  {
   "cell_type": "code",
   "execution_count": 7,
   "metadata": {
    "id": "bDhyHn9fR4dq"
   },
   "outputs": [],
   "source": [
    "# Turn data into tensors of dtype float\n",
    "Xt = torch.tensor(X,dtype=torch.float32)\n",
    "yt = torch.tensor(y,dtype=torch.float32)\n",
    "\n",
    "# Split the data into train and test sets (80% train, 20% test)\n",
    "from sklearn.model_selection import train_test_split\n",
    "X_train,X_test,y_train,y_test = train_test_split(Xt,yt,train_size=0.8)"
   ]
  },
  {
   "cell_type": "code",
   "execution_count": 8,
   "metadata": {},
   "outputs": [
    {
     "name": "stdout",
     "output_type": "stream",
     "text": [
      "800 200 800 200\n"
     ]
    }
   ],
   "source": [
    "print(len(X_train),len(X_test),len(y_train),len(y_test))"
   ]
  },
  {
   "cell_type": "markdown",
   "metadata": {
    "id": "cMIjxZdzQfPz"
   },
   "source": [
    "## 2. Build a model by subclassing `nn.Module` that incorporates non-linear activation functions and is capable of fitting the data you created in 1.\n",
    "  * Feel free to use any combination of PyTorch layers (linear and non-linear) you want."
   ]
  },
  {
   "cell_type": "code",
   "execution_count": 16,
   "metadata": {
    "id": "hwtyvm34Ri6Q"
   },
   "outputs": [
    {
     "data": {
      "text/plain": [
       "OrderedDict([('layer_stack.0.weight',\n",
       "              tensor([[ 0.5406,  0.5869],\n",
       "                      [-0.1657,  0.6496],\n",
       "                      [-0.1549,  0.1427],\n",
       "                      [-0.3443,  0.4153],\n",
       "                      [ 0.6233, -0.5188],\n",
       "                      [ 0.6146,  0.1323],\n",
       "                      [ 0.5224,  0.0958],\n",
       "                      [ 0.3410, -0.0998]])),\n",
       "             ('layer_stack.0.bias',\n",
       "              tensor([ 0.5451,  0.1045, -0.3301,  0.1802, -0.3258, -0.0829, -0.2872,  0.4691])),\n",
       "             ('layer_stack.2.weight',\n",
       "              tensor([[-0.2791, -0.1630, -0.0998, -0.2126,  0.0334, -0.3492,  0.3193, -0.3003],\n",
       "                      [ 0.2730,  0.0588, -0.1148,  0.2185,  0.0551,  0.2857,  0.0387, -0.1115],\n",
       "                      [ 0.0950, -0.0959,  0.1488,  0.3157,  0.2044, -0.1546,  0.2041,  0.0633],\n",
       "                      [ 0.1795, -0.2155, -0.3500, -0.1366, -0.2712,  0.2901,  0.1018,  0.1464],\n",
       "                      [ 0.1118, -0.0062,  0.2767, -0.2512,  0.0223, -0.2413,  0.1090, -0.1218],\n",
       "                      [ 0.1083, -0.0737,  0.2932, -0.2096, -0.2109, -0.2109,  0.3180,  0.1178],\n",
       "                      [ 0.3402, -0.2918, -0.3507, -0.2766, -0.2378,  0.1432,  0.1266,  0.2938],\n",
       "                      [-0.1826, -0.2410,  0.1876, -0.1429,  0.2146, -0.0839,  0.2022, -0.2747]])),\n",
       "             ('layer_stack.2.bias',\n",
       "              tensor([-0.1784,  0.1078,  0.0747, -0.0901,  0.2107,  0.2403, -0.2564, -0.1888])),\n",
       "             ('layer_stack.4.weight',\n",
       "              tensor([[ 0.3237, -0.1193, -0.1253, -0.3421, -0.2025,  0.0883, -0.0467, -0.2566]])),\n",
       "             ('layer_stack.4.bias', tensor([0.0083]))])"
      ]
     },
     "execution_count": 16,
     "metadata": {},
     "output_type": "execute_result"
    }
   ],
   "source": [
    "import torch\n",
    "from torch import nn\n",
    "torch.manual_seed(RANDOM_SEED)\n",
    "# Inherit from nn.Module to make a model capable of fitting the mooon data\n",
    "class MoonModelV0(nn.Module):\n",
    "    def __init__(self):\n",
    "        super().__init__()\n",
    "        self.layer_stack = nn.Sequential(\n",
    "            nn.Linear(in_features = 2,out_features =8),\n",
    "            nn.ReLU(),\n",
    "            nn.Linear(in_features = 8,out_features=8),\n",
    "            nn.ReLU(),\n",
    "            nn.Linear(in_features =8,out_features = 1)\n",
    "        )\n",
    "\n",
    "    def forward(self, x):\n",
    "        return self.layer_stack(x)\n",
    "# Instantiate the model\n",
    "model0=MoonModelV0()\n",
    "model0.state_dict()\n"
   ]
  },
  {
   "cell_type": "markdown",
   "metadata": {
    "id": "DSj97RwyVeFE"
   },
   "source": [
    "## 3. Setup a binary classification compatible loss function and optimizer to use when training the model built in 2."
   ]
  },
  {
   "cell_type": "code",
   "execution_count": 17,
   "metadata": {
    "id": "whSGw5qgVvxU"
   },
   "outputs": [],
   "source": [
    "# Setup loss function\n",
    "loss_fn = torch.nn.BCEWithLogitsLoss()\n",
    "# Setup optimizer to optimize model's parameters\n",
    "optimizer = torch.optim.SGD(params=model0.parameters(),lr=0.1)"
   ]
  },
  {
   "cell_type": "markdown",
   "metadata": {
    "id": "nvk4PfNTWUAt"
   },
   "source": [
    "## 4. Create a training and testing loop to fit the model you created in 2 to the data you created in 1.\n",
    "  * Do a forward pass of the model to see what's coming out in the form of logits, prediction probabilities and labels.\n",
    "  * To measure model accuray, you can create your own accuracy function or use the accuracy function in [TorchMetrics](https://torchmetrics.readthedocs.io/en/latest/).\n",
    "  * Train the model for long enough for it to reach over 96% accuracy.\n",
    "  * The training loop should output progress every 10 epochs of the model's training and test set loss and accuracy."
   ]
  },
  {
   "cell_type": "code",
   "execution_count": 37,
   "metadata": {
    "colab": {
     "base_uri": "https://localhost:8080/"
    },
    "id": "AgnFdlamd2-D",
    "outputId": "627d8c33-071e-4925-f18b-5d5ba6126729"
   },
   "outputs": [
    {
     "name": "stdout",
     "output_type": "stream",
     "text": [
      "Logits:tensor([[-0.0894],\n",
      "        [-0.1039],\n",
      "        [-0.1667],\n",
      "        [-0.0810],\n",
      "        [-0.3093]])\n",
      "Pred probs:tensor([[0.4777],\n",
      "        [0.4740],\n",
      "        [0.4584],\n",
      "        [0.4798],\n",
      "        [0.4233]])\n",
      "Pred labels:tensor([0, 0, 0, 0, 0]),torch.Size([200])\n"
     ]
    }
   ],
   "source": [
    "# What's coming out of our model?\n",
    "model0.eval()\n",
    "with torch.inference_mode():\n",
    "    logits = model0(X_test)\n",
    "    pred_probs = torch.sigmoid(logits)\n",
    "    pred_labels = torch.round(pred_probs).to(torch.long).squeeze()\n",
    "# logits (raw outputs of model)\n",
    "print(f\"Logits:{logits[:5]}\")\n",
    "\n",
    "# Prediction probabilities\n",
    "print(f\"Pred probs:{pred_probs[:5]}\")\n",
    "\n",
    "# Prediction labels\n",
    "print(f\"Pred labels:{pred_labels[:5]},{pred_labels.shape}\")\n",
    "## Your code here ##"
   ]
  },
  {
   "cell_type": "code",
   "execution_count": 42,
   "metadata": {
    "id": "rUSDNHB4euoJ"
   },
   "outputs": [
    {
     "name": "stdout",
     "output_type": "stream",
     "text": [
      "Accuracy: 0.5249999761581421\n"
     ]
    }
   ],
   "source": [
    "# Let's calculuate the accuracy using accuracy from TorchMetrics\n",
    "# !pip -q install torchmetrics # Colab doesn't come with torchmetrics\n",
    "from torchmetrics import Accuracy\n",
    "\n",
    "## TODO: Uncomment this code to use the Accuracy function\n",
    "acc_fn = Accuracy(task=\"multiclass\", num_classes=2)\n",
    "print(f\"Accuracy: {acc_fn(pred_labels,y_test).item()}\")"
   ]
  },
  {
   "cell_type": "code",
   "execution_count": 45,
   "metadata": {
    "id": "SHBY3h7XXnxt"
   },
   "outputs": [
    {
     "data": {
      "text/plain": [
       "tensor([[ 0.6115,  0.7913],\n",
       "        [ 1.7492, -0.1624],\n",
       "        [-0.8602,  0.5100],\n",
       "        ...,\n",
       "        [ 1.9943,  0.3932],\n",
       "        [ 0.8334,  0.5526],\n",
       "        [ 1.9995,  0.4685]], device='cuda:0')"
      ]
     },
     "execution_count": 45,
     "metadata": {},
     "output_type": "execute_result"
    }
   ],
   "source": [
    "## TODO: Uncomment this to set the seed\n",
    "torch.manual_seed(RANDOM_SEED)\n",
    "\n",
    "# Setup epochs\n",
    "epochs =1000\n",
    "\n",
    "# Send data to the device\n",
    "X_train,X_test,y_train,y_test = X_train.to(device),X_test.to(device),y_train.to(device),y_test.to(device)\n",
    "\n",
    "# Loop through the data\n",
    "# for epoch in range(epochs):\n",
    "  ### Training\n",
    "  \n",
    "\n",
    "  # 1. Forward pass (logits output)\n",
    "  \n",
    "  # Turn logits into prediction probabilities\n",
    "  \n",
    "\n",
    "  # Turn prediction probabilities into prediction labels\n",
    "  \n",
    "\n",
    "  # 2. Calculaute the loss\n",
    "  # loss = loss_fn(y_logits, y_train) # loss = compare model raw outputs to desired model outputs\n",
    "\n",
    "  # Calculate the accuracy\n",
    "  # acc = acc_fn(y_pred, y_train.int()) # the accuracy function needs to compare pred labels (not logits) with actual labels\n",
    "\n",
    "  # 3. Zero the gradients\n",
    "  \n",
    "\n",
    "  # 4. Loss backward (perform backpropagation) - https://brilliant.org/wiki/backpropagation/#:~:text=Backpropagation%2C%20short%20for%20%22backward%20propagation,to%20the%20neural%20network's%20weights.\n",
    "  \n",
    "  # 5. Step the optimizer (gradient descent) - https://towardsdatascience.com/gradient-descent-algorithm-a-deep-dive-cf04e8115f21#:~:text=Gradient%20descent%20(GD)%20is%20an,e.g.%20in%20a%20linear%20regression) \n",
    "  \n",
    "\n",
    "  ### Testing\n",
    "  # model_0.eval() \n",
    "  # with torch.inference_mode():\n",
    "    # 1. Forward pass (to get the logits)\n",
    "    \n",
    "    # Turn the test logits into prediction labels\n",
    "    \n",
    "\n",
    "    # 2. Caculate the test loss/acc\n",
    "    \n",
    "\n",
    "  # Print out what's happening every 100 epochs\n",
    "  # if epoch % 100 == 0:"
   ]
  },
  {
   "cell_type": "markdown",
   "metadata": {
    "id": "8Nwihtomj9JO"
   },
   "source": [
    "## 5. Make predictions with your trained model and plot them using the `plot_decision_boundary()` function created in this notebook."
   ]
  },
  {
   "cell_type": "code",
   "execution_count": 11,
   "metadata": {
    "id": "0YRzatb8a1P2"
   },
   "outputs": [],
   "source": [
    "# Plot the model predictions\n",
    "import numpy as np\n",
    "\n",
    "def plot_decision_boundary(model, X, y):\n",
    "  \n",
    "    # Put everything to CPU (works better with NumPy + Matplotlib)\n",
    "    model.to(\"cpu\")\n",
    "    X, y = X.to(\"cpu\"), y.to(\"cpu\")\n",
    "\n",
    "    # Source - https://madewithml.com/courses/foundations/neural-networks/ \n",
    "    # (with modifications)\n",
    "    x_min, x_max = X[:, 0].min() - 0.1, X[:, 0].max() + 0.1\n",
    "    y_min, y_max = X[:, 1].min() - 0.1, X[:, 1].max() + 0.1\n",
    "    xx, yy = np.meshgrid(np.linspace(x_min, x_max, 101), \n",
    "                         np.linspace(y_min, y_max, 101))\n",
    "\n",
    "    # Make features\n",
    "    X_to_pred_on = torch.from_numpy(np.column_stack((xx.ravel(), yy.ravel()))).float()\n",
    "\n",
    "    # Make predictions\n",
    "    model.eval()\n",
    "    with torch.inference_mode():\n",
    "        y_logits = model(X_to_pred_on)\n",
    "\n",
    "    # Test for multi-class or binary and adjust logits to prediction labels\n",
    "    if len(torch.unique(y)) > 2:\n",
    "        y_pred = torch.softmax(y_logits, dim=1).argmax(dim=1) # mutli-class\n",
    "    else: \n",
    "        y_pred = torch.round(torch.sigmoid(y_logits)) # binary\n",
    "    \n",
    "    # Reshape preds and plot\n",
    "    y_pred = y_pred.reshape(xx.shape).detach().numpy()\n",
    "    plt.contourf(xx, yy, y_pred, cmap=plt.cm.RdYlBu, alpha=0.7)\n",
    "    plt.scatter(X[:, 0], X[:, 1], c=y, s=40, cmap=plt.cm.RdYlBu)\n",
    "    plt.xlim(xx.min(), xx.max())\n",
    "    plt.ylim(yy.min(), yy.max())"
   ]
  },
  {
   "cell_type": "code",
   "execution_count": 12,
   "metadata": {
    "id": "PMrcpyirig1d"
   },
   "outputs": [],
   "source": [
    "# Plot decision boundaries for training and test sets\n"
   ]
  },
  {
   "cell_type": "markdown",
   "metadata": {
    "id": "EtMYBvtciiAU"
   },
   "source": [
    "## 6. Replicate the Tanh (hyperbolic tangent) activation function in pure PyTorch.\n",
    "  * Feel free to reference the [ML cheatsheet website](https://ml-cheatsheet.readthedocs.io/en/latest/activation_functions.html#tanh) for the formula."
   ]
  },
  {
   "cell_type": "code",
   "execution_count": 13,
   "metadata": {
    "id": "BlXaWC5TkEUE"
   },
   "outputs": [],
   "source": [
    "# Create a straight line tensor\n"
   ]
  },
  {
   "cell_type": "code",
   "execution_count": 14,
   "metadata": {
    "id": "vZPCcQmIkZjO"
   },
   "outputs": [],
   "source": [
    "# Test torch.tanh() on the tensor and plot it\n"
   ]
  },
  {
   "cell_type": "code",
   "execution_count": 15,
   "metadata": {
    "id": "J-ne__Kjkdc1"
   },
   "outputs": [],
   "source": [
    "# Replicate torch.tanh() and plot it\n"
   ]
  },
  {
   "cell_type": "markdown",
   "metadata": {
    "id": "Lbt1bNcWk5G9"
   },
   "source": [
    "## 7. Create a multi-class dataset using the [spirals data creation function from CS231n](https://cs231n.github.io/neural-networks-case-study/) (see below for the code).\n",
    "  * Split the data into training and test sets (80% train, 20% test) as well as turn it into PyTorch tensors.\n",
    "  * Construct a model capable of fitting the data (you may need a combination of linear and non-linear layers).\n",
    "  * Build a loss function and optimizer capable of handling multi-class data (optional extension: use the Adam optimizer instead of SGD, you may have to experiment with different values of the learning rate to get it working).\n",
    "  * Make a training and testing loop for the multi-class data and train a model on it to reach over 95% testing accuracy (you can use any accuracy measuring function here that you like) - 1000 epochs should be plenty.\n",
    "  * Plot the decision boundaries on the spirals dataset from your model predictions, the `plot_decision_boundary()` function should work for this dataset too."
   ]
  },
  {
   "cell_type": "code",
   "execution_count": 16,
   "metadata": {
    "colab": {
     "base_uri": "https://localhost:8080/",
     "height": 265
    },
    "id": "tU-UNZsKlJls",
    "outputId": "8b7b745a-070d-4ecb-c639-c4ee4d8eae06"
   },
   "outputs": [
    {
     "data": {
      "image/png": "[encoded data removed]",
      "text/plain": [
       "<Figure size 432x288 with 1 Axes>"
      ]
     },
     "metadata": {
      "needs_background": "light"
     },
     "output_type": "display_data"
    }
   ],
   "source": [
    "# Code for creating a spiral dataset from CS231n\n",
    "import numpy as np\n",
    "import matplotlib.pyplot as plt\n",
    "RANDOM_SEED = 42\n",
    "np.random.seed(RANDOM_SEED)\n",
    "N = 100 # number of points per class\n",
    "D = 2 # dimensionality\n",
    "K = 3 # number of classes\n",
    "X = np.zeros((N*K,D)) # data matrix (each row = single example)\n",
    "y = np.zeros(N*K, dtype='uint8') # class labels\n",
    "for j in range(K):\n",
    "  ix = range(N*j,N*(j+1))\n",
    "  r = np.linspace(0.0,1,N) # radius\n",
    "  t = np.linspace(j*4,(j+1)*4,N) + np.random.randn(N)*0.2 # theta\n",
    "  X[ix] = np.c_[r*np.sin(t), r*np.cos(t)]\n",
    "  y[ix] = j\n",
    "# lets visualize the data\n",
    "plt.scatter(X[:, 0], X[:, 1], c=y, s=40, cmap=plt.cm.RdYlBu)\n",
    "plt.show()"
   ]
  },
  {
   "cell_type": "code",
   "execution_count": 17,
   "metadata": {
    "id": "OWVrmkEyl0VP"
   },
   "outputs": [],
   "source": [
    "# Turn data into tensors\n",
    "import torch\n",
    "X = torch.from_numpy(X).type(torch.float) # features as float32\n",
    "y = torch.from_numpy(y).type(torch.LongTensor) # labels need to be of type long\n",
    "\n",
    "# Create train and test splits\n",
    "from sklearn.model_selection import train_test_split\n"
   ]
  },
  {
   "cell_type": "code",
   "execution_count": 18,
   "metadata": {
    "id": "a-v-7f0op0tG"
   },
   "outputs": [],
   "source": [
    "# Let's calculuate the accuracy for when we fit our model\n",
    "!pip -q install torchmetrics # colab doesn't come with torchmetrics\n",
    "from torchmetrics import Accuracy\n",
    "\n",
    "## TODO: uncomment the two lines below to send the accuracy function to the device\n",
    "# acc_fn = Accuracy(task=\"multiclass\", num_classes=4).to(device)\n",
    "# acc_fn"
   ]
  },
  {
   "cell_type": "code",
   "execution_count": 19,
   "metadata": {
    "id": "DB3u3ldumapf"
   },
   "outputs": [],
   "source": [
    "# Prepare device agnostic code\n",
    "# device = \"cuda\" if torch.cuda.is_available() else \"cpu\"\n",
    "\n",
    "# Create model by subclassing nn.Module\n",
    "\n",
    "\n",
    "\n",
    "# Instantiate model and send it to device\n"
   ]
  },
  {
   "cell_type": "code",
   "execution_count": 20,
   "metadata": {
    "colab": {
     "base_uri": "https://localhost:8080/"
    },
    "id": "QE7XWSSunMTS",
    "outputId": "00b31909-87c9-41e3-9dbb-fb4c4bd3aabd"
   },
   "outputs": [
    {
     "name": "stdout",
     "output_type": "stream",
     "text": [
      "Logits:\n",
      "Pred probs:\n",
      "Pred labels:\n"
     ]
    }
   ],
   "source": [
    "# Setup data to be device agnostic\n",
    "\n",
    "\n",
    "# Print out first 10 untrained model outputs (forward pass)\n",
    "print(\"Logits:\")\n",
    "## Your code here ##\n",
    "\n",
    "print(\"Pred probs:\")\n",
    "## Your code here ##\n",
    "\n",
    "print(\"Pred labels:\")\n",
    "## Your code here ##"
   ]
  },
  {
   "cell_type": "code",
   "execution_count": 21,
   "metadata": {
    "id": "54EqLRKLo0AW"
   },
   "outputs": [],
   "source": [
    "# Setup loss function and optimizer\n",
    "# loss_fn =\n",
    "# optimizer = "
   ]
  },
  {
   "cell_type": "code",
   "execution_count": 22,
   "metadata": {
    "id": "vIlExkUHnmxi"
   },
   "outputs": [],
   "source": [
    "# Build a training loop for the model\n",
    "\n",
    "# Loop over data\n",
    "\n",
    "\n",
    "  ## Training\n",
    "  \n",
    "  # 1. Forward pass\n",
    "  \n",
    "\n",
    "  # 2. Calculate the loss\n",
    "  \n",
    "  \n",
    "  # 3. Optimizer zero grad\n",
    "  \n",
    "\n",
    "  # 4. Loss backward\n",
    "  \n",
    "\n",
    "  # 5. Optimizer step\n",
    "  \n",
    "\n",
    "  ## Testing\n",
    "  \n",
    "\n",
    "    # 1. Forward pass\n",
    "    \n",
    "    # 2. Caculate loss and acc\n",
    "    \n",
    "  # Print out what's happening every 100 epochs\n",
    "  "
   ]
  },
  {
   "cell_type": "code",
   "execution_count": 23,
   "metadata": {
    "id": "JrwVRbaE0keT"
   },
   "outputs": [],
   "source": [
    "# Plot decision boundaries for training and test sets\n"
   ]
  }
 ],
 "metadata": {
  "accelerator": "GPU",
  "colab": {
   "authorship_tag": "ABX9TyNloicnciRwCXd2bJo6F2iS",
   "collapsed_sections": [],
   "include_colab_link": true,
   "name": "02_pytorch_classification_exercises.ipynb",
   "provenance": []
  },
  "kernelspec": {
   "display_name": "Python 3 (ipykernel)",
   "language": "python",
   "name": "python3"
  },
  "language_info": {
   "codemirror_mode": {
    "name": "ipython",
    "version": 3
   },
   "file_extension": ".py",
   "mimetype": "text/x-python",
   "name": "python",
   "nbconvert_exporter": "python",
   "pygments_lexer": "ipython3",
   "version": "3.12.2"
  }
 },
 "nbformat": 4,
 "nbformat_minor": 4
}
