{
  "cells": [
    {
      "cell_type": "markdown",
      "metadata": {
        "colab_type": "text",
        "id": "view-in-github"
      },
      "source": [
        "<a href=\"https://colab.research.google.com/github/mrdbourke/pytorch-deep-learning/blob/main/extras/exercises/03_pytorch_computer_vision_exercises.ipynb\" target=\"_parent\"><img src=\"https://colab.research.google.com/assets/colab-badge.svg\" alt=\"Open In Colab\"/></a>\n"
      ]
    },
    {
      "cell_type": "markdown",
      "metadata": {
        "id": "Vex99np2wFVt"
      },
      "source": [
        "# 03. PyTorch Computer Vision Exercises\n",
        "\n",
        "The following is a collection of exercises based on computer vision fundamentals in PyTorch.\n",
        "\n",
        "They're a bunch of fun.\n",
        "\n",
        "You're going to get to write plenty of code!\n",
        "\n",
        "## Resources\n",
        "\n",
        "1. These exercises are based on [notebook 03 of the Learn PyTorch for Deep Learning course](https://www.learnpytorch.io/03_pytorch_computer_vision/).\n",
        "2. See a live [walkthrough of the solutions (errors and all) on YouTube](https://youtu.be/_PibmqpEyhA).\n",
        "\n",
        "- **Note:** Going through these exercises took me just over 3 hours of solid coding, so you should expect around the same.\n",
        "\n",
        "3. See [other solutions on the course GitHub](https://github.com/mrdbourke/pytorch-deep-learning/tree/main/extras/solutions).\n"
      ]
    },
    {
      "cell_type": "code",
      "execution_count": 1,
      "metadata": {
        "colab": {
          "base_uri": "https://localhost:8080/"
        },
        "id": "GaeYzOTLwWh2",
        "outputId": "17dd5453-9639-4b01-aa18-7ddbfd5c3253"
      },
      "outputs": [
        {
          "name": "stdout",
          "output_type": "stream",
          "text": [
            "Sun Jun  2 11:35:33 2024       \n",
            "+-----------------------------------------------------------------------------------------+\n",
            "| NVIDIA-SMI 551.23                 Driver Version: 551.23         CUDA Version: 12.4     |\n",
            "|-----------------------------------------+------------------------+----------------------+\n",
            "| GPU  Name                     TCC/WDDM  | Bus-Id          Disp.A | Volatile Uncorr. ECC |\n",
            "| Fan  Temp   Perf          Pwr:Usage/Cap |           Memory-Usage | GPU-Util  Compute M. |\n",
            "|                                         |                        |               MIG M. |\n",
            "|=========================================+========================+======================|\n",
            "|   0  NVIDIA GeForce RTX 3060 ...  WDDM  |   00000000:01:00.0 Off |                  N/A |\n",
            "| N/A   35C    P8             11W /   95W |     188MiB /   6144MiB |      0%      Default |\n",
            "|                                         |                        |                  N/A |\n",
            "+-----------------------------------------+------------------------+----------------------+\n",
            "                                                                                         \n",
            "+-----------------------------------------------------------------------------------------+\n",
            "| Processes:                                                                              |\n",
            "|  GPU   GI   CI        PID   Type   Process name                              GPU Memory |\n",
            "|        ID   ID                                                               Usage      |\n",
            "|=========================================================================================|\n",
            "|    0   N/A  N/A     13252      C   ...rograms\\Python\\Python312\\python.exe      N/A      |\n",
            "+-----------------------------------------------------------------------------------------+\n"
          ]
        }
      ],
      "source": [
        "# Check for GPU\n",
        "!nvidia-smi"
      ]
    },
    {
      "cell_type": "code",
      "execution_count": 3,
      "metadata": {
        "colab": {
          "base_uri": "https://localhost:8080/",
          "height": 53
        },
        "id": "DNwZLMbCzJLk",
        "outputId": "9c150c50-a092-4f34-9d33-b45247fb080d"
      },
      "outputs": [
        {
          "name": "stdout",
          "output_type": "stream",
          "text": [
            "2.2.1+cu121\n"
          ]
        },
        {
          "data": {
            "text/plain": [
              "'cuda'"
            ]
          },
          "execution_count": 3,
          "metadata": {},
          "output_type": "execute_result"
        }
      ],
      "source": [
        "# Import torch\n",
        "import torch\n",
        "\n",
        "# Exercises require PyTorch > 1.10.0\n",
        "print(torch.__version__)\n",
        "\n",
        "# TODO: Setup device agnostic code\n",
        "device = \"cuda\" if torch.cuda.is_available() else \"cpu\"\n",
        "device"
      ]
    },
    {
      "cell_type": "markdown",
      "metadata": {
        "id": "FSFX7tc1w-en"
      },
      "source": [
        "## 1. What are 3 areas in industry where computer vision is currently being used?\n"
      ]
    },
    {
      "cell_type": "markdown",
      "metadata": {
        "id": "VyWRkvWGbCXj"
      },
      "source": [
        "- Automated driving\n",
        "- Agriculture\n",
        "- Healthcare\n"
      ]
    },
    {
      "cell_type": "markdown",
      "metadata": {
        "id": "oBK-WI6YxDYa"
      },
      "source": [
        "## 2. Search \"what is overfitting in machine learning\" and write down a sentence about what you find.\n"
      ]
    },
    {
      "cell_type": "markdown",
      "metadata": {
        "id": "d1rxD6GObCqh"
      },
      "source": [
        "Overfitting is the condition of a model where it trains too well on the patterns of training data and cannot detect the patterns in test/validation/unseen data\n"
      ]
    },
    {
      "cell_type": "markdown",
      "metadata": {
        "id": "XeYFEqw8xK26"
      },
      "source": [
        "## 3. Search \"ways to prevent overfitting in machine learning\", write down 3 of the things you find and a sentence about each.\n",
        "\n",
        "> **Note:** there are lots of these, so don't worry too much about all of them, just pick 3 and start with those.\n"
      ]
    },
    {
      "cell_type": "markdown",
      "metadata": {
        "id": "ocvOdWKcbEKr"
      },
      "source": [
        "- Implement regularization\n",
        "- Increase training dataset\n",
        "- Implement data augmentation\n"
      ]
    },
    {
      "cell_type": "markdown",
      "metadata": {
        "id": "DKdEEFEqxM-8"
      },
      "source": [
        "## 4. Spend 20-minutes reading and clicking through the [CNN Explainer website](https://poloclub.github.io/cnn-explainer/).\n",
        "\n",
        "- Upload your own example image using the \"upload\" button on the website and see what happens in each layer of a CNN as your image passes through it.\n"
      ]
    },
    {
      "cell_type": "code",
      "execution_count": null,
      "metadata": {
        "id": "TqZaJIRMbFtS"
      },
      "outputs": [],
      "source": []
    },
    {
      "cell_type": "markdown",
      "metadata": {
        "id": "lvf-3pODxXYI"
      },
      "source": [
        "## 5. Load the [`torchvision.datasets.MNIST()`](https://pytorch.org/vision/stable/generated/torchvision.datasets.MNIST.html#torchvision.datasets.MNIST) train and test datasets.\n"
      ]
    },
    {
      "cell_type": "code",
      "execution_count": 36,
      "metadata": {
        "id": "SHjeuN81bHza"
      },
      "outputs": [],
      "source": [
        "from torchvision.datasets import MNIST\n",
        "from torchvision import transforms\n",
        "\n",
        "train_data = MNIST(\n",
        "    root=\"data\", train=True, download=True, transform=transforms.ToTensor()\n",
        ")\n",
        "test_data = MNIST(\n",
        "    root=\"data\", train=False, download=True, transform=transforms.ToTensor()\n",
        ")\n",
        "class_names = train_data.classes"
      ]
    },
    {
      "cell_type": "markdown",
      "metadata": {
        "id": "qxZW-uAbxe_F"
      },
      "source": [
        "## 6. Visualize at least 5 different samples of the MNIST training dataset.\n"
      ]
    },
    {
      "cell_type": "code",
      "execution_count": 24,
      "metadata": {
        "id": "QVFsYi1PbItE"
      },
      "outputs": [
        {
          "data": {
            "image/png": "[encoded data removed]",
            "text/plain": [
              "<Figure size 640x480 with 5 Axes>"
            ]
          },
          "metadata": {},
          "output_type": "display_data"
        }
      ],
      "source": [
        "import matplotlib.pyplot as plt\n",
        "\n",
        "for i in range(5):\n",
        "\n",
        "    plt.subplot(1, 5, i + 1)\n",
        "    plt.imshow(train_data[i][0].squeeze(), cmap=\"gray\")\n",
        "    plt.title(train_data[i][1])\n",
        "    plt.axis(False)"
      ]
    },
    {
      "cell_type": "markdown",
      "metadata": {
        "id": "JAPDzW0wxhi3"
      },
      "source": [
        "## 7. Turn the MNIST train and test datasets into dataloaders using `torch.utils.data.DataLoader`, set the `batch_size=32`.\n"
      ]
    },
    {
      "cell_type": "code",
      "execution_count": 27,
      "metadata": {
        "id": "ALA6MPcFbJXQ"
      },
      "outputs": [],
      "source": [
        "from torch.utils.data import DataLoader\n",
        "\n",
        "BATCH = 32\n",
        "\n",
        "train_loader = DataLoader(\n",
        "    batch_size=32,\n",
        "    shuffle=True,\n",
        "    dataset=train_data,\n",
        ")\n",
        "test_loader = DataLoader(\n",
        "    batch_size=32,\n",
        "    shuffle=False,\n",
        "    dataset=test_data,\n",
        ")"
      ]
    },
    {
      "cell_type": "markdown",
      "metadata": {
        "id": "bCCVfXk5xjYS"
      },
      "source": [
        "## 8. Recreate `model_2` used in notebook 03 (the same model from the [CNN Explainer website](https://poloclub.github.io/cnn-explainer/), also known as TinyVGG) capable of fitting on the MNIST dataset.\n"
      ]
    },
    {
      "cell_type": "code",
      "execution_count": 69,
      "metadata": {
        "id": "5IKNF22XbKYS"
      },
      "outputs": [],
      "source": [
        "from torch import nn\n",
        "\n",
        "\n",
        "class MNIST_model(nn.Module):\n",
        "    def __init__(self, input_shape: int, hidden_units: int, output_shape: int):\n",
        "        super().__init__()\n",
        "        self.block_1 = nn.Sequential(\n",
        "            nn.Conv2d(\n",
        "                in_channels=input_shape,\n",
        "                out_channels=hidden_units,\n",
        "                kernel_size=3,  # how big is the square that's going over the image?\n",
        "                stride=1,  # default\n",
        "                padding=1,\n",
        "            ),  # options = \"valid\" (no padding) or \"same\" (output has same shape as input) or int for specific number\n",
        "            nn.ReLU(),\n",
        "            nn.Conv2d(\n",
        "                in_channels=hidden_units,\n",
        "                out_channels=hidden_units,\n",
        "                kernel_size=3,\n",
        "                stride=1,\n",
        "                padding=1,\n",
        "            ),\n",
        "            nn.ReLU(),\n",
        "            nn.MaxPool2d(\n",
        "                kernel_size=2, stride=2\n",
        "            ),  # default stride value is same as kernel_size\n",
        "        )\n",
        "        self.block_2 = nn.Sequential(\n",
        "            nn.Conv2d(hidden_units, hidden_units, 3, padding=1),\n",
        "            nn.ReLU(),\n",
        "            nn.Conv2d(hidden_units, hidden_units, 3, padding=1),\n",
        "            nn.ReLU(),\n",
        "            nn.MaxPool2d(2),\n",
        "        )\n",
        "        self.classifier = nn.Sequential(\n",
        "            nn.Flatten(),\n",
        "            # Where did this in_features shape come from?\n",
        "            # It's because each layer of our network compresses and changes the shape of our inputs data.\n",
        "            nn.Linear(in_features=hidden_units * 7 * 7, out_features=output_shape),\n",
        "        )\n",
        "\n",
        "    def forward(self, x: torch.Tensor):\n",
        "        x = self.block_1(x)\n",
        "        # print(x.shape)\n",
        "        x = self.block_2(x)\n",
        "        # print(x.shape)\n",
        "        x = self.classifier(x)\n",
        "        # print(x.shape)\n",
        "        return x"
      ]
    },
    {
      "cell_type": "code",
      "execution_count": 70,
      "metadata": {},
      "outputs": [],
      "source": [
        "model = MNIST_model(\n",
        "    input_shape=1,\n",
        "    hidden_units=10,\n",
        "    output_shape=len(class_names),\n",
        ").to(device)\n",
        "\n",
        "model_cpu = MNIST_model(\n",
        "    input_shape=1,\n",
        "    hidden_units=10,\n",
        "    output_shape=len(class_names),\n",
        ").to(\"cpu\")"
      ]
    },
    {
      "cell_type": "code",
      "execution_count": 101,
      "metadata": {},
      "outputs": [
        {
          "data": {
            "text/plain": [
              "tensor([[-2.1078, -1.3632, -0.0568,  1.2582, -0.5556,  4.3972, -0.1969, -0.3044,\n",
              "         -0.5961,  0.1569]], device='cuda:0', grad_fn=<AddmmBackward0>)"
            ]
          },
          "execution_count": 101,
          "metadata": {},
          "output_type": "execute_result"
        }
      ],
      "source": [
        "dummy_tensor = torch.rand(1, 1, 28, 28).to(device)\n",
        "\n",
        "test = model(dummy_tensor)\n",
        "test"
      ]
    },
    {
      "cell_type": "markdown",
      "metadata": {
        "id": "sf_3zUr7xlhy"
      },
      "source": [
        "## 9. Train the model you built in exercise 8. for 5 epochs on CPU and GPU and see how long it takes on each.\n"
      ]
    },
    {
      "cell_type": "markdown",
      "metadata": {},
      "source": [
        "- GPU training\n"
      ]
    },
    {
      "cell_type": "code",
      "execution_count": 76,
      "metadata": {},
      "outputs": [],
      "source": [
        "from torch.optim import SGD\n",
        "from torch.nn import CrossEntropyLoss\n",
        "from torchmetrics import Accuracy\n",
        "\n",
        "loss_fn_gpu = CrossEntropyLoss()\n",
        "optimizer_gpu = SGD(model.parameters(), lr=0.1)\n",
        "accuracy_fn = Accuracy(task=\"multiclass\", num_classes=len(class_names)).to(device)"
      ]
    },
    {
      "cell_type": "code",
      "execution_count": 78,
      "metadata": {
        "id": "jSo6vVWFbNLD"
      },
      "outputs": [
        {
          "data": {
            "application/vnd.jupyter.widget-view+json": {
              "model_id": "e046a88bed454f7e8958bf080faa835d",
              "version_major": 2,
              "version_minor": 0
            },
            "text/plain": [
              "  0%|          | 0/5 [00:00<?, ?it/s]"
            ]
          },
          "metadata": {},
          "output_type": "display_data"
        },
        {
          "name": "stdout",
          "output_type": "stream",
          "text": [
            "\n",
            "Train Loss: 0.07338 | Train Accuracy: 0.98 \n",
            "Test Loss: 0.05310 | Test Accuracy: 0.98\n",
            "\n",
            "Train Loss: 0.05730 | Train Accuracy: 0.98 \n",
            "Test Loss: 0.04739 | Test Accuracy: 0.98\n",
            "\n",
            "Train Loss: 0.04737 | Train Accuracy: 0.98 \n",
            "Test Loss: 0.03805 | Test Accuracy: 0.99\n",
            "\n",
            "Train Loss: 0.04200 | Train Accuracy: 0.99 \n",
            "Test Loss: 0.03717 | Test Accuracy: 0.99\n",
            "\n",
            "Train Loss: 0.03761 | Train Accuracy: 0.99 \n",
            "Test Loss: 0.03894 | Test Accuracy: 0.99\n",
            "Start time:380529.9839595 | End time:380633.816385)\n"
          ]
        }
      ],
      "source": [
        "from tqdm.auto import tqdm\n",
        "\n",
        "epochs = 5\n",
        "# Training loop\n",
        "for epoch in tqdm(range(epochs)):\n",
        "    train_loss, train_acc = 0, 0\n",
        "    model.train()\n",
        "    for X, y in train_loader:\n",
        "        X, y = X.to(device), y.to(device)\n",
        "        y_preds = model(X)\n",
        "        loss = loss_fn_gpu(y_preds, y)\n",
        "        accuracy = accuracy_fn(y_preds, y)\n",
        "        train_loss += loss\n",
        "        train_acc += accuracy\n",
        "        optimizer_gpu.zero_grad()\n",
        "        loss.backward()\n",
        "        optimizer_gpu.step()\n",
        "    train_loss /= len(train_loader)  # average train_loss from each batch of data\n",
        "    train_acc /= len(train_loader)\n",
        "\n",
        "    test_loss = 0\n",
        "    test_acc = 0\n",
        "    model.eval()\n",
        "    with torch.inference_mode():\n",
        "        for X, y in test_loader:\n",
        "            X, y = X.to(device), y.to(device)\n",
        "            test_preds = model(X)\n",
        "            loss = loss_fn_gpu(test_preds, y)\n",
        "            accuracy = accuracy_fn(test_preds, y)\n",
        "            test_loss += loss\n",
        "            test_acc += accuracy\n",
        "\n",
        "        test_loss /= len(test_loader)\n",
        "        test_acc /= len(test_loader)\n",
        "    print(\n",
        "        f\"\\nTrain Loss: {train_loss:.5f} | Train Accuracy: {train_acc:.2f} \\nTest Loss: {test_loss:.5f} | Test Accuracy: {test_acc:.2f}\"\n",
        "    )"
      ]
    },
    {
      "cell_type": "markdown",
      "metadata": {},
      "source": [
        "- CPU training\n"
      ]
    },
    {
      "cell_type": "code",
      "execution_count": 79,
      "metadata": {},
      "outputs": [],
      "source": [
        "from torch.optim import SGD\n",
        "from torch.nn import CrossEntropyLoss\n",
        "from torchmetrics import Accuracy\n",
        "\n",
        "loss_fn_cpu = CrossEntropyLoss()\n",
        "optimizer_cpu = SGD(model_cpu.parameters(), lr=0.1)\n",
        "accuracy_fn = Accuracy(task=\"multiclass\", num_classes=len(class_names)).to(device)"
      ]
    },
    {
      "cell_type": "code",
      "execution_count": 81,
      "metadata": {},
      "outputs": [
        {
          "data": {
            "application/vnd.jupyter.widget-view+json": {
              "model_id": "15e53b128068471bbfd2cfdbafbc0d12",
              "version_major": 2,
              "version_minor": 0
            },
            "text/plain": [
              "  0%|          | 0/5 [00:00<?, ?it/s]"
            ]
          },
          "metadata": {},
          "output_type": "display_data"
        },
        {
          "name": "stdout",
          "output_type": "stream",
          "text": [
            "\n",
            "Train Loss: 0.28684 | Train Accuracy: 0.91 \n",
            "Test Loss: 0.06615 | Test Accuracy: 0.98\n",
            "\n",
            "Train Loss: 0.07127 | Train Accuracy: 0.98 \n",
            "Test Loss: 0.05060 | Test Accuracy: 0.99\n",
            "\n",
            "Train Loss: 0.05514 | Train Accuracy: 0.98 \n",
            "Test Loss: 0.04277 | Test Accuracy: 0.99\n",
            "\n",
            "Train Loss: 0.04714 | Train Accuracy: 0.99 \n",
            "Test Loss: 0.04546 | Test Accuracy: 0.98\n",
            "\n",
            "Train Loss: 0.04178 | Train Accuracy: 0.99 \n",
            "Test Loss: 0.03621 | Test Accuracy: 0.99\n"
          ]
        }
      ],
      "source": [
        "from tqdm.auto import tqdm\n",
        "\n",
        "device = \"cpu\"\n",
        "epochs = 5\n",
        "# Training loop\n",
        "for epoch in tqdm(range(epochs)):\n",
        "    train_loss, train_acc = 0, 0\n",
        "    model_cpu.train()\n",
        "    for X, y in train_loader:\n",
        "        X, y = X.to(device), y.to(device)\n",
        "        y_preds = model_cpu(X)\n",
        "        loss = loss_fn_cpu(y_preds, y)\n",
        "        accuracy = accuracy_fn(y_preds, y)\n",
        "        train_loss += loss\n",
        "        train_acc += accuracy\n",
        "        optimizer_cpu.zero_grad()\n",
        "        loss.backward()\n",
        "        optimizer_cpu.step()\n",
        "    train_loss /= len(train_loader)  # average train_loss from each batch of data\n",
        "    train_acc /= len(train_loader)\n",
        "\n",
        "    test_loss = 0\n",
        "    test_acc = 0\n",
        "    model_cpu.eval()\n",
        "    with torch.inference_mode():\n",
        "        for X, y in test_loader:\n",
        "            X, y = X.to(device), y.to(device)\n",
        "            test_preds = model_cpu(X)\n",
        "            loss = loss_fn_cpu(test_preds, y)\n",
        "            accuracy = accuracy_fn(test_preds, y)\n",
        "            test_loss += loss\n",
        "            test_acc += accuracy\n",
        "\n",
        "        test_loss /= len(test_loader)\n",
        "        test_acc /= len(test_loader)\n",
        "    print(\n",
        "        f\"\\nTrain Loss: {train_loss:.5f} | Train Accuracy: {train_acc:.2f} \\nTest Loss: {test_loss:.5f} | Test Accuracy: {test_acc:.2f}\"\n",
        "    )"
      ]
    },
    {
      "cell_type": "markdown",
      "metadata": {
        "id": "w1CsHhPpxp1w"
      },
      "source": [
        "## 10. Make predictions using your trained model and visualize at least 5 of them comparing the prediciton to the target label.\n"
      ]
    },
    {
      "cell_type": "code",
      "execution_count": 92,
      "metadata": {
        "id": "_YGgZvSobNxu"
      },
      "outputs": [
        {
          "data": {
            "image/png": "[encoded data removed]",
            "text/plain": [
              "<Figure size 640x480 with 5 Axes>"
            ]
          },
          "metadata": {},
          "output_type": "display_data"
        }
      ],
      "source": [
        "device = \"cuda\" if torch.cuda.is_available() else \"cpu\"\n",
        "num_to_plot = 5\n",
        "for i in range(num_to_plot):\n",
        "    # Get image and labels from the test data\n",
        "    img = test_data[i][0]\n",
        "    label = test_data[i][1]\n",
        "\n",
        "    # Make prediction on image\n",
        "    model_pred_logits = model(img.unsqueeze(dim=0).to(device))\n",
        "    model_pred_probs = torch.softmax(model_pred_logits, dim=1)\n",
        "    model_pred_label = torch.argmax(model_pred_probs, dim=1)\n",
        "\n",
        "    # Plot the image and prediction\n",
        "    plt.subplot(2, 3, i + 1)\n",
        "    plt.imshow(img.squeeze(), cmap=\"gray\")\n",
        "    plt.title(f\"Truth: {label} | Pred: {model_pred_label.cpu().item()}\")\n",
        "    plt.axis(False)"
      ]
    },
    {
      "cell_type": "markdown",
      "metadata": {
        "id": "qQwzqlBWxrpG"
      },
      "source": [
        "## 11. Plot a confusion matrix comparing your model's predictions to the truth labels.\n"
      ]
    },
    {
      "cell_type": "code",
      "execution_count": 129,
      "metadata": {},
      "outputs": [
        {
          "data": {
            "text/plain": [
              "tensor(3, device='cuda:0')"
            ]
          },
          "execution_count": 129,
          "metadata": {},
          "output_type": "execute_result"
        }
      ],
      "source": [
        "dummy = torch.rand(1, 28, 28).to(device)\n",
        "logit = model(dummy.unsqueeze(dim=0)).squeeze()\n",
        "pred = torch.softmax(logit, dim=0).argmax()\n",
        "pred"
      ]
    },
    {
      "cell_type": "code",
      "execution_count": 130,
      "metadata": {
        "id": "vSrXiT_AbQ6e"
      },
      "outputs": [
        {
          "data": {
            "application/vnd.jupyter.widget-view+json": {
              "model_id": "7c3263b9bb5a4960bef11a1494f8a81b",
              "version_major": 2,
              "version_minor": 0
            },
            "text/plain": [
              "Making preds...:   0%|          | 0/313 [00:00<?, ?it/s]"
            ]
          },
          "metadata": {},
          "output_type": "display_data"
        },
        {
          "data": {
            "text/plain": [
              "tensor([7, 2, 1,  ..., 4, 8, 6])"
            ]
          },
          "execution_count": 130,
          "metadata": {},
          "output_type": "execute_result"
        }
      ],
      "source": [
        "model_preds = []\n",
        "model.eval()\n",
        "with torch.inference_mode():\n",
        "    for X, y in tqdm(test_loader, desc=\"Making preds...\"):\n",
        "        X, y = X.to(device), y.to(device)\n",
        "        y_logit = model(X)\n",
        "        y_pred = torch.softmax(y_logit.squeeze(), dim=0).argmax(dim=1)\n",
        "        model_preds.append(y_pred.cpu())\n",
        "\n",
        "model_preds_tensor = torch.cat(model_preds)\n",
        "model_preds_tensor"
      ]
    },
    {
      "cell_type": "code",
      "execution_count": 133,
      "metadata": {},
      "outputs": [
        {
          "data": {
            "text/plain": [
              "tensor([[ 948,    4,    2,    0,    1,    2,   12,    3,    6,    2],\n",
              "        [   0, 1125,    3,    1,    1,    0,    5,    0,    0,    0],\n",
              "        [  16,   73,  906,    9,    1,    0,    2,   13,   10,    2],\n",
              "        [   3,   11,   16,  905,    0,   38,    1,   10,   18,    8],\n",
              "        [   3,   60,    1,    0,  862,    3,    7,   10,    5,   31],\n",
              "        [   1,    7,    2,   22,    0,  775,   20,    5,   22,   38],\n",
              "        [  10,    8,    1,    0,    5,   13,  917,    0,    4,    0],\n",
              "        [   2,   38,   12,    8,    6,    2,    0,  937,    2,   21],\n",
              "        [   8,   16,   16,    6,    5,   10,    8,    4,  889,   12],\n",
              "        [   3,   11,    1,    2,   27,    4,    3,   16,    8,  934]])"
            ]
          },
          "execution_count": 133,
          "metadata": {},
          "output_type": "execute_result"
        }
      ],
      "source": [
        "from torchmetrics import ConfusionMatrix\n",
        "from mlxtend.plotting import plot_confusion_matrix\n",
        "\n",
        "conf_matrix = ConfusionMatrix(task=\"multiclass\", num_classes=len(class_names))\n",
        "confmat_tensor = conf_matrix(\n",
        "    preds=model_preds_tensor,\n",
        "    target=test_data.targets,\n",
        ")\n",
        "confmat_tensor"
      ]
    },
    {
      "cell_type": "code",
      "execution_count": 135,
      "metadata": {},
      "outputs": [
        {
          "data": {
            "image/png": "[encoded data removed]",
            "text/plain": [
              "<Figure size 1000x700 with 1 Axes>"
            ]
          },
          "metadata": {},
          "output_type": "display_data"
        }
      ],
      "source": [
        "fig, ax = plot_confusion_matrix(\n",
        "    confmat_tensor.numpy(),\n",
        "    class_names=class_names,\n",
        "    figsize=(10, 7),\n",
        ")"
      ]
    }
  ],
  "metadata": {
    "accelerator": "GPU",
    "colab": {
      "authorship_tag": "ABX9TyMUsDcN/+FAm9Pf7Ifqs6AZ",
      "collapsed_sections": [],
      "include_colab_link": true,
      "name": "03_pytorch_computer_vision_exercises.ipynb",
      "provenance": []
    },
    "kernelspec": {
      "display_name": "Python 3",
      "name": "python3"
    },
    "language_info": {
      "codemirror_mode": {
        "name": "ipython",
        "version": 3
      },
      "file_extension": ".py",
      "mimetype": "text/x-python",
      "name": "python",
      "nbconvert_exporter": "python",
      "pygments_lexer": "ipython3",
      "version": "3.12.2"
    }
  },
  "nbformat": 4,
  "nbformat_minor": 0
}
