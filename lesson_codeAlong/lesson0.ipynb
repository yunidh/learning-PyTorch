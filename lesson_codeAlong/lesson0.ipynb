{
 "cells": [
  {
   "cell_type": "markdown",
   "id": "69b92c7e-208e-41ae-9c51-7ca141f1428a",
   "metadata": {},
   "source": [
    "# Lesson 0 - Fundamentals"
   ]
  },
  {
   "cell_type": "code",
   "execution_count": 52,
   "id": "5d15b9b9-a1bd-4de7-9319-f9285952de71",
   "metadata": {},
   "outputs": [],
   "source": [
    "import torch"
   ]
  },
  {
   "cell_type": "code",
   "execution_count": 2,
   "id": "2dea3cc8-7e05-4d4b-80c7-3183207f51e8",
   "metadata": {},
   "outputs": [
    {
     "data": {
      "text/plain": [
       "'2.2.1+cu121'"
      ]
     },
     "execution_count": 2,
     "metadata": {},
     "output_type": "execute_result"
    }
   ],
   "source": [
    "torch.__version__"
   ]
  },
  {
   "cell_type": "markdown",
   "id": "a3cbb5bc-f695-45de-8265-a8eb19d6b31d",
   "metadata": {},
   "source": [
    "## Intro to Tensors"
   ]
  },
  {
   "cell_type": "markdown",
   "id": "54896680-20db-49a9-81be-83f440246a52",
   "metadata": {},
   "source": [
    "### Scalar\n"
   ]
  },
  {
   "cell_type": "code",
   "execution_count": 3,
   "id": "f3df2dcf-47ec-4939-afc8-3028d8a81e45",
   "metadata": {},
   "outputs": [
    {
     "data": {
      "text/plain": [
       "tensor(7)"
      ]
     },
     "execution_count": 3,
     "metadata": {},
     "output_type": "execute_result"
    }
   ],
   "source": [
    "scalar = torch.tensor(7)\n",
    "scalar"
   ]
  },
  {
   "cell_type": "code",
   "execution_count": 4,
   "id": "575d0b96-7ffe-45a5-960d-03c56a6c242b",
   "metadata": {},
   "outputs": [
    {
     "data": {
      "text/plain": [
       "0"
      ]
     },
     "execution_count": 4,
     "metadata": {},
     "output_type": "execute_result"
    }
   ],
   "source": [
    "scalar.ndim"
   ]
  },
  {
   "cell_type": "code",
   "execution_count": 5,
   "id": "b81cbb66-d267-452f-b60b-2b1421d44b08",
   "metadata": {},
   "outputs": [
    {
     "data": {
      "text/plain": [
       "7"
      ]
     },
     "execution_count": 5,
     "metadata": {},
     "output_type": "execute_result"
    }
   ],
   "source": [
    "#Returning the values inside the scalar tensor as python int\n",
    "scalar.item()"
   ]
  },
  {
   "cell_type": "markdown",
   "id": "e27f5a48-a7db-4815-abec-ae2b1d37c3aa",
   "metadata": {},
   "source": [
    "### Vectors"
   ]
  },
  {
   "cell_type": "code",
   "execution_count": 6,
   "id": "30e5d2b1-54fc-47ef-96e2-132ee144b4fd",
   "metadata": {},
   "outputs": [
    {
     "data": {
      "text/plain": [
       "tensor([7, 7])"
      ]
     },
     "execution_count": 6,
     "metadata": {},
     "output_type": "execute_result"
    }
   ],
   "source": [
    "\n",
    "vector = torch.tensor([7,7])\n",
    "vector"
   ]
  },
  {
   "cell_type": "code",
   "execution_count": 7,
   "id": "e22f03bf-15b1-4630-a8d6-5de8cac62858",
   "metadata": {},
   "outputs": [
    {
     "data": {
      "text/plain": [
       "1"
      ]
     },
     "execution_count": 7,
     "metadata": {},
     "output_type": "execute_result"
    }
   ],
   "source": [
    "vector.ndim"
   ]
  },
  {
   "cell_type": "code",
   "execution_count": 8,
   "id": "a719a74c-09e1-48e9-a032-6b993d4b109e",
   "metadata": {},
   "outputs": [
    {
     "ename": "RuntimeError",
     "evalue": "a Tensor with 2 elements cannot be converted to Scalar",
     "output_type": "error",
     "traceback": [
      "\u001b[1;31m---------------------------------------------------------------------------\u001b[0m",
      "\u001b[1;31mRuntimeError\u001b[0m                              Traceback (most recent call last)",
      "Cell \u001b[1;32mIn[8], line 2\u001b[0m\n\u001b[0;32m      1\u001b[0m \u001b[38;5;66;03m#Item only works on scalars\u001b[39;00m\n\u001b[1;32m----> 2\u001b[0m \u001b[43mvector\u001b[49m\u001b[38;5;241;43m.\u001b[39;49m\u001b[43mitem\u001b[49m\u001b[43m(\u001b[49m\u001b[43m)\u001b[49m\n",
      "\u001b[1;31mRuntimeError\u001b[0m: a Tensor with 2 elements cannot be converted to Scalar"
     ]
    }
   ],
   "source": [
    "#Item only works on scalars\n",
    "vector.item()"
   ]
  },
  {
   "cell_type": "markdown",
   "id": "c6867394-50d3-43b4-a19d-2549a4953347",
   "metadata": {},
   "source": [
    "### Matrix"
   ]
  },
  {
   "cell_type": "code",
   "execution_count": 9,
   "id": "af67461d-26b8-4c96-9cc0-ad3c28568876",
   "metadata": {},
   "outputs": [
    {
     "data": {
      "text/plain": [
       "tensor([[1, 2],\n",
       "        [3, 4]])"
      ]
     },
     "execution_count": 9,
     "metadata": {},
     "output_type": "execute_result"
    }
   ],
   "source": [
    "matrix = torch.tensor([[1,2],[3,4]])\n",
    "matrix"
   ]
  },
  {
   "cell_type": "code",
   "execution_count": 10,
   "id": "e4e6799f-a7ad-41cd-9435-088ae5293d57",
   "metadata": {},
   "outputs": [
    {
     "data": {
      "text/plain": [
       "2"
      ]
     },
     "execution_count": 10,
     "metadata": {},
     "output_type": "execute_result"
    }
   ],
   "source": [
    "matrix.ndim"
   ]
  },
  {
   "cell_type": "markdown",
   "id": "0c4c35a4-48f8-46c3-ba44-d20e6d9ab072",
   "metadata": {},
   "source": [
    "#### Note: No. of square brackets = ndim value"
   ]
  },
  {
   "cell_type": "code",
   "execution_count": 11,
   "id": "cd5cde92-c786-4ca2-8b0e-dfa7e3cb83b8",
   "metadata": {},
   "outputs": [
    {
     "data": {
      "text/plain": [
       "tensor([1, 2])"
      ]
     },
     "execution_count": 11,
     "metadata": {},
     "output_type": "execute_result"
    }
   ],
   "source": [
    "matrix[0]"
   ]
  },
  {
   "cell_type": "code",
   "execution_count": 12,
   "id": "1f082fa4-94a7-4963-85fb-08140d856eb0",
   "metadata": {},
   "outputs": [
    {
     "data": {
      "text/plain": [
       "tensor(2)"
      ]
     },
     "execution_count": 12,
     "metadata": {},
     "output_type": "execute_result"
    }
   ],
   "source": [
    "matrix[0,1]"
   ]
  },
  {
   "cell_type": "code",
   "execution_count": 13,
   "id": "98a7cac4-7281-4ea9-92f7-6864094bb935",
   "metadata": {},
   "outputs": [
    {
     "data": {
      "text/plain": [
       "torch.Size([2, 2])"
      ]
     },
     "execution_count": 13,
     "metadata": {},
     "output_type": "execute_result"
    }
   ],
   "source": [
    "matrix.shape"
   ]
  },
  {
   "cell_type": "markdown",
   "id": "61e1df19-f355-40bb-a632-782098382a03",
   "metadata": {},
   "source": [
    "### TENSOR"
   ]
  },
  {
   "cell_type": "code",
   "execution_count": 14,
   "id": "6f389863-cee2-4aae-9937-48c9f358588f",
   "metadata": {},
   "outputs": [
    {
     "data": {
      "text/plain": [
       "tensor([[[1, 2],\n",
       "         [2, 3]],\n",
       "\n",
       "        [[4, 5],\n",
       "         [6, 7]]])"
      ]
     },
     "execution_count": 14,
     "metadata": {},
     "output_type": "execute_result"
    }
   ],
   "source": [
    "tensor = torch.tensor([[[1,2],[2,3]],[[4,5],[6,7]]])\n",
    "tensor"
   ]
  },
  {
   "cell_type": "code",
   "execution_count": 15,
   "id": "6875c3b6-d252-47fe-b0fb-b1285588344b",
   "metadata": {},
   "outputs": [
    {
     "data": {
      "text/plain": [
       "3"
      ]
     },
     "execution_count": 15,
     "metadata": {},
     "output_type": "execute_result"
    }
   ],
   "source": [
    "tensor.ndim"
   ]
  },
  {
   "cell_type": "code",
   "execution_count": 16,
   "id": "eaaaa4a2-1c92-4916-9001-6c7ff94b7593",
   "metadata": {},
   "outputs": [
    {
     "data": {
      "text/plain": [
       "torch.Size([2, 2, 2])"
      ]
     },
     "execution_count": 16,
     "metadata": {},
     "output_type": "execute_result"
    }
   ],
   "source": [
    "tensor.shape"
   ]
  },
  {
   "cell_type": "code",
   "execution_count": 17,
   "id": "596439f7-3e31-4ee7-8aa5-8415d48e2ca6",
   "metadata": {},
   "outputs": [
    {
     "data": {
      "text/plain": [
       "tensor([[1, 2],\n",
       "        [2, 3]])"
      ]
     },
     "execution_count": 17,
     "metadata": {},
     "output_type": "execute_result"
    }
   ],
   "source": [
    "tensor[0]"
   ]
  },
  {
   "cell_type": "code",
   "execution_count": 18,
   "id": "192fd93a-2cfa-4215-a629-864f8c483df5",
   "metadata": {},
   "outputs": [
    {
     "data": {
      "text/plain": [
       "tensor([1, 2])"
      ]
     },
     "execution_count": 18,
     "metadata": {},
     "output_type": "execute_result"
    }
   ],
   "source": [
    "tensor[0,0]"
   ]
  },
  {
   "cell_type": "code",
   "execution_count": 19,
   "id": "616e313e-01ad-46f3-b665-c079e99ba1b3",
   "metadata": {},
   "outputs": [
    {
     "data": {
      "text/plain": [
       "tensor(1)"
      ]
     },
     "execution_count": 19,
     "metadata": {},
     "output_type": "execute_result"
    }
   ],
   "source": [
    "tensor[0,0,0]"
   ]
  },
  {
   "cell_type": "markdown",
   "id": "9dea1513-c29e-4004-98af-85682a47e229",
   "metadata": {},
   "source": [
    "### Random Tensors\n"
   ]
  },
  {
   "cell_type": "code",
   "execution_count": 20,
   "id": "f25d60f0-013e-4eb4-8a59-cb53d4a9e3ac",
   "metadata": {},
   "outputs": [
    {
     "data": {
      "text/plain": [
       "tensor([[0.7435, 0.5317, 0.4289, 0.4481],\n",
       "        [0.6896, 0.5323, 0.8515, 0.9823],\n",
       "        [0.5043, 0.2120, 0.9081, 0.4870]])"
      ]
     },
     "execution_count": 20,
     "metadata": {},
     "output_type": "execute_result"
    }
   ],
   "source": [
    "#Creating a tensor of specified shape\n",
    "RT = torch.rand(3,4)\n",
    "RT"
   ]
  },
  {
   "cell_type": "code",
   "execution_count": 21,
   "id": "89e39cb0-406e-4bdd-b412-496180bd133c",
   "metadata": {},
   "outputs": [
    {
     "data": {
      "text/plain": [
       "2"
      ]
     },
     "execution_count": 21,
     "metadata": {},
     "output_type": "execute_result"
    }
   ],
   "source": [
    "RT.ndim"
   ]
  },
  {
   "cell_type": "code",
   "execution_count": 22,
   "id": "8ed73212-5877-4755-bdc6-b7efdf2d1b85",
   "metadata": {},
   "outputs": [
    {
     "data": {
      "text/plain": [
       "(torch.Size([3, 224, 224]), 3)"
      ]
     },
     "execution_count": 22,
     "metadata": {},
     "output_type": "execute_result"
    }
   ],
   "source": [
    "#Creating a tensor of specified image size\n",
    "ImageRT = torch.rand(size=(3,224,224))\n",
    "#224*224 image size with 3 color channels (RGB)\n",
    "ImageRT.shape,ImageRT.ndim"
   ]
  },
  {
   "cell_type": "markdown",
   "id": "78b8de29-6742-4ee6-a21f-d9b75d612f64",
   "metadata": {},
   "source": [
    "### Zeros and Ones"
   ]
  },
  {
   "cell_type": "code",
   "execution_count": 23,
   "id": "e93b97b7-fa73-4c81-97ab-318ff774dc35",
   "metadata": {},
   "outputs": [
    {
     "data": {
      "text/plain": [
       "tensor([[0., 0., 0., 0.],\n",
       "        [0., 0., 0., 0.],\n",
       "        [0., 0., 0., 0.]])"
      ]
     },
     "execution_count": 23,
     "metadata": {},
     "output_type": "execute_result"
    }
   ],
   "source": [
    "zeros = torch.zeros(3,4)\n",
    "zeros"
   ]
  },
  {
   "cell_type": "code",
   "execution_count": 24,
   "id": "882131b5-7b9c-46fd-af1d-1ecf14665991",
   "metadata": {},
   "outputs": [
    {
     "data": {
      "text/plain": [
       "tensor([[0., 0., 0., 0.],\n",
       "        [0., 0., 0., 0.],\n",
       "        [0., 0., 0., 0.]])"
      ]
     },
     "execution_count": 24,
     "metadata": {},
     "output_type": "execute_result"
    }
   ],
   "source": [
    "RT * zeros"
   ]
  },
  {
   "cell_type": "code",
   "execution_count": 25,
   "id": "486f931f-a7f8-4959-9f66-cd1ed4099213",
   "metadata": {},
   "outputs": [
    {
     "data": {
      "text/plain": [
       "tensor([[1., 1., 1., 1.],\n",
       "        [1., 1., 1., 1.],\n",
       "        [1., 1., 1., 1.]])"
      ]
     },
     "execution_count": 25,
     "metadata": {},
     "output_type": "execute_result"
    }
   ],
   "source": [
    "ones =torch.ones(3,4)\n",
    "ones"
   ]
  },
  {
   "cell_type": "markdown",
   "id": "36b16076-8a27-4020-a31b-4342f9400350",
   "metadata": {},
   "source": [
    "### Range of tensors "
   ]
  },
  {
   "cell_type": "code",
   "execution_count": 26,
   "id": "ea4a77c0-276c-4a20-ba16-c98de5369104",
   "metadata": {},
   "outputs": [
    {
     "data": {
      "text/plain": [
       "tensor([1, 2])"
      ]
     },
     "execution_count": 26,
     "metadata": {},
     "output_type": "execute_result"
    }
   ],
   "source": [
    "torch.arange(1,3)\n",
    "#to create a tensor of 1 row from start value to end value "
   ]
  },
  {
   "cell_type": "code",
   "execution_count": 27,
   "id": "afc24a01-6e4c-4587-86ec-5bcf6834bc67",
   "metadata": {},
   "outputs": [
    {
     "data": {
      "text/plain": [
       "tensor([ 0, 10, 20, 30, 40, 50, 60, 70, 80, 90])"
      ]
     },
     "execution_count": 27,
     "metadata": {},
     "output_type": "execute_result"
    }
   ],
   "source": [
    "step = torch.arange(0,100,step = 10)\n",
    "step"
   ]
  },
  {
   "cell_type": "markdown",
   "id": "f63964ab-fff9-4209-901f-09eaed961455",
   "metadata": {},
   "source": [
    "### Tensors like"
   ]
  },
  {
   "cell_type": "code",
   "execution_count": 28,
   "id": "17ce7534-7b2b-4fad-a5be-f73e5d92cb45",
   "metadata": {},
   "outputs": [
    {
     "data": {
      "text/plain": [
       "tensor([1, 1, 1, 1, 1, 1, 1, 1, 1, 1])"
      ]
     },
     "execution_count": 28,
     "metadata": {},
     "output_type": "execute_result"
    }
   ],
   "source": [
    "one_step = torch.ones_like(step)\n",
    "one_step\n",
    "#_like Creates tensors which match the shape of ( parameter )"
   ]
  },
  {
   "cell_type": "markdown",
   "id": "7b51f573-63b8-473a-a7d5-3e295e8dd241",
   "metadata": {},
   "source": [
    "### Tensor Datatypes"
   ]
  },
  {
   "cell_type": "code",
   "execution_count": 29,
   "id": "106a0cd1-d4fc-4538-bf75-5303c71e70fd",
   "metadata": {},
   "outputs": [
    {
     "data": {
      "text/plain": [
       "torch.int64"
      ]
     },
     "execution_count": 29,
     "metadata": {},
     "output_type": "execute_result"
    }
   ],
   "source": [
    "datatype = torch.tensor ([1,2,3], dtype = None)\n",
    "datatype.dtype #Default dtype "
   ]
  },
  {
   "cell_type": "code",
   "execution_count": 30,
   "id": "2e2d3434-59a5-47e4-ba88-95b3f13464e0",
   "metadata": {},
   "outputs": [
    {
     "data": {
      "text/plain": [
       "tensor([1., 2., 3.])"
      ]
     },
     "execution_count": 30,
     "metadata": {},
     "output_type": "execute_result"
    }
   ],
   "source": [
    "#converting into different data type\n",
    "float_32 = datatype.type(torch.float32)\n",
    "float_32"
   ]
  },
  {
   "cell_type": "code",
   "execution_count": 31,
   "id": "8642edbe-d64c-479d-b79c-db23fcea3a3c",
   "metadata": {},
   "outputs": [
    {
     "data": {
      "text/plain": [
       "torch.float32"
      ]
     },
     "execution_count": 31,
     "metadata": {},
     "output_type": "execute_result"
    }
   ],
   "source": [
    "#Default float data type\n",
    "datatype_f = torch.tensor ([1.,2.,3.])\n",
    "datatype_f.dtype"
   ]
  },
  {
   "cell_type": "markdown",
   "id": "218ae92a-a4b9-4432-a5d2-23a31f125b14",
   "metadata": {},
   "source": [
    "## Crucial error in PyTorch\n",
    "Operation of different datatypes might run into errors"
   ]
  },
  {
   "cell_type": "code",
   "execution_count": 32,
   "id": "4117a97f-503a-4423-a7dd-c95e84a39bfb",
   "metadata": {},
   "outputs": [
    {
     "data": {
      "text/plain": [
       "tensor([1., 2., 3.], dtype=torch.float64)"
      ]
     },
     "execution_count": 32,
     "metadata": {},
     "output_type": "execute_result"
    }
   ],
   "source": [
    "float_64 = float_32.type(torch.double)\n",
    "float_64"
   ]
  },
  {
   "cell_type": "code",
   "execution_count": 33,
   "id": "b8a3c05f-79f4-4b08-8c03-063260a431e1",
   "metadata": {},
   "outputs": [
    {
     "data": {
      "text/plain": [
       "tensor([1., 4., 9.])"
      ]
     },
     "execution_count": 33,
     "metadata": {},
     "output_type": "execute_result"
    }
   ],
   "source": [
    "float_32 * datatype"
   ]
  },
  {
   "cell_type": "code",
   "execution_count": 34,
   "id": "bd1bb51e-a80a-41fc-bded-bf347d6c5820",
   "metadata": {},
   "outputs": [
    {
     "data": {
      "text/plain": [
       "device(type='cpu')"
      ]
     },
     "execution_count": 34,
     "metadata": {},
     "output_type": "execute_result"
    }
   ],
   "source": [
    "#Default device that a tensor is stored in\n",
    "#Tensors in different devices can result in error\n",
    "tensor.device"
   ]
  },
  {
   "cell_type": "code",
   "execution_count": 35,
   "id": "e133877f-cfdb-43c3-8ac9-e4269fe5c2f6",
   "metadata": {},
   "outputs": [
    {
     "ename": "RuntimeError",
     "evalue": "The size of tensor a (3) must match the size of tensor b (4) at non-singleton dimension 1",
     "output_type": "error",
     "traceback": [
      "\u001b[1;31m---------------------------------------------------------------------------\u001b[0m",
      "\u001b[1;31mRuntimeError\u001b[0m                              Traceback (most recent call last)",
      "Cell \u001b[1;32mIn[35], line 2\u001b[0m\n\u001b[0;32m      1\u001b[0m \u001b[38;5;66;03m#Tensors with different shapes can result in errors\u001b[39;00m\n\u001b[1;32m----> 2\u001b[0m \u001b[43mfloat_64\u001b[49m\u001b[43m \u001b[49m\u001b[38;5;241;43m*\u001b[39;49m\u001b[43mRT\u001b[49m\n",
      "\u001b[1;31mRuntimeError\u001b[0m: The size of tensor a (3) must match the size of tensor b (4) at non-singleton dimension 1"
     ]
    }
   ],
   "source": [
    "#Tensors with different shapes can result in errors\n",
    "float_64 *RT"
   ]
  },
  {
   "cell_type": "markdown",
   "id": "7c65a398-f6f6-4965-be30-80d4336647e6",
   "metadata": {},
   "source": [
    "## Tensor Operations"
   ]
  },
  {
   "cell_type": "code",
   "execution_count": 36,
   "id": "d8417b66-6512-4d3a-8fc6-49014afbb87e",
   "metadata": {},
   "outputs": [
    {
     "name": "stdout",
     "output_type": "stream",
     "text": [
      "tensor([1, 2, 3])\n"
     ]
    },
    {
     "data": {
      "text/plain": [
       "tensor(14)"
      ]
     },
     "execution_count": 36,
     "metadata": {},
     "output_type": "execute_result"
    }
   ],
   "source": [
    "#Matrix Multiplication (dot product)\n",
    "print(datatype)\n",
    "torch.matmul (datatype, datatype)\n",
    "#torch.mm shortform"
   ]
  },
  {
   "cell_type": "code",
   "execution_count": 37,
   "id": "1248eb2f-2535-4f7f-80d4-bc6a49b7c8ea",
   "metadata": {},
   "outputs": [
    {
     "name": "stdout",
     "output_type": "stream",
     "text": [
      "CPU times: total: 0 ns\n",
      "Wall time: 0 ns\n"
     ]
    },
    {
     "data": {
      "text/plain": [
       "tensor([1, 4, 9])"
      ]
     },
     "execution_count": 37,
     "metadata": {},
     "output_type": "execute_result"
    }
   ],
   "source": [
    "%%time\n",
    "datatype * datatype #Element wise multiplication"
   ]
  },
  {
   "cell_type": "markdown",
   "id": "74b88521-f2c6-430e-9ab6-593fd0cfde8d",
   "metadata": {},
   "source": [
    "### matmul doesn't work on matrices of different shapes\n",
    "to operate, we need to transpose one of the matrices"
   ]
  },
  {
   "cell_type": "code",
   "execution_count": 38,
   "id": "fda6ec60-fb6c-4feb-ae79-cb9339728300",
   "metadata": {},
   "outputs": [
    {
     "name": "stdout",
     "output_type": "stream",
     "text": [
      "torch.Size([3, 2]) torch.Size([3, 2])\n"
     ]
    }
   ],
   "source": [
    "tensor_A = torch.tensor([[1,2],\n",
    "            [3,4],\n",
    "            [5,6]])\n",
    "tensor_B = torch.tensor([[1,2],\n",
    "            [3,4],\n",
    "            [5,6]])\n",
    "print(tensor_A.shape,tensor_B.shape)"
   ]
  },
  {
   "cell_type": "code",
   "execution_count": 39,
   "id": "8b5601b3-e07c-406f-95a8-f6d3ebc214cc",
   "metadata": {},
   "outputs": [
    {
     "ename": "RuntimeError",
     "evalue": "mat1 and mat2 shapes cannot be multiplied (3x2 and 3x2)",
     "output_type": "error",
     "traceback": [
      "\u001b[1;31m---------------------------------------------------------------------------\u001b[0m",
      "\u001b[1;31mRuntimeError\u001b[0m                              Traceback (most recent call last)",
      "Cell \u001b[1;32mIn[39], line 1\u001b[0m\n\u001b[1;32m----> 1\u001b[0m \u001b[43mtorch\u001b[49m\u001b[38;5;241;43m.\u001b[39;49m\u001b[43mmm\u001b[49m\u001b[43m(\u001b[49m\u001b[43mtensor_A\u001b[49m\u001b[43m,\u001b[49m\u001b[43mtensor_B\u001b[49m\u001b[43m)\u001b[49m\n",
      "\u001b[1;31mRuntimeError\u001b[0m: mat1 and mat2 shapes cannot be multiplied (3x2 and 3x2)"
     ]
    }
   ],
   "source": [
    "torch.mm(tensor_A,tensor_B)"
   ]
  },
  {
   "cell_type": "code",
   "execution_count": 40,
   "id": "b78a418f-4708-4615-b1aa-4943c044f908",
   "metadata": {},
   "outputs": [
    {
     "data": {
      "text/plain": [
       "tensor([[1, 3, 5],\n",
       "        [2, 4, 6]])"
      ]
     },
     "execution_count": 40,
     "metadata": {},
     "output_type": "execute_result"
    }
   ],
   "source": [
    "tensor_B.T\n",
    "#Transpose operation"
   ]
  },
  {
   "cell_type": "code",
   "execution_count": 41,
   "id": "686eed88-60e7-46be-b72a-20fe60b3c870",
   "metadata": {},
   "outputs": [
    {
     "data": {
      "text/plain": [
       "tensor([[ 5, 11, 17],\n",
       "        [11, 25, 39],\n",
       "        [17, 39, 61]])"
      ]
     },
     "execution_count": 41,
     "metadata": {},
     "output_type": "execute_result"
    }
   ],
   "source": [
    "torch.mm(tensor_A, tensor_B.T)"
   ]
  },
  {
   "cell_type": "markdown",
   "id": "162dd500-c4f9-4238-861a-24e47ab23d3f",
   "metadata": {},
   "source": [
    "### Finding min,max,mean,sum etc. (Aggregation)\n",
    "Aggregation -> Large numbers to small numbers"
   ]
  },
  {
   "cell_type": "code",
   "execution_count": 42,
   "id": "bb026599-a18f-4c26-a7f9-2e50bc8f2a1f",
   "metadata": {},
   "outputs": [
    {
     "data": {
      "text/plain": [
       "tensor([ 2,  4,  6,  8, 10, 12, 14, 16, 18])"
      ]
     },
     "execution_count": 42,
     "metadata": {},
     "output_type": "execute_result"
    }
   ],
   "source": [
    "X = torch.arange(2,20,step=2)\n",
    "X"
   ]
  },
  {
   "cell_type": "code",
   "execution_count": 43,
   "id": "7986afef-ae84-4e33-8d7a-997a45cf2def",
   "metadata": {},
   "outputs": [
    {
     "name": "stdout",
     "output_type": "stream",
     "text": [
      "min: tensor(2)\n",
      "max: tensor(18)\n"
     ]
    }
   ],
   "source": [
    "print( \"min:\",torch.min(X))\n",
    "print(\"max:\",torch.max(X))"
   ]
  },
  {
   "cell_type": "code",
   "execution_count": 44,
   "id": "ce4f0e4e-bcbc-4f28-98d9-7b7b7a0a97f7",
   "metadata": {},
   "outputs": [
    {
     "ename": "RuntimeError",
     "evalue": "mean(): could not infer output dtype. Input dtype must be either a floating point or complex dtype. Got: Long",
     "output_type": "error",
     "traceback": [
      "\u001b[1;31m---------------------------------------------------------------------------\u001b[0m",
      "\u001b[1;31mRuntimeError\u001b[0m                              Traceback (most recent call last)",
      "Cell \u001b[1;32mIn[44], line 1\u001b[0m\n\u001b[1;32m----> 1\u001b[0m \u001b[43mtorch\u001b[49m\u001b[38;5;241;43m.\u001b[39;49m\u001b[43mmean\u001b[49m\u001b[43m(\u001b[49m\u001b[43mX\u001b[49m\u001b[43m)\u001b[49m\n",
      "\u001b[1;31mRuntimeError\u001b[0m: mean(): could not infer output dtype. Input dtype must be either a floating point or complex dtype. Got: Long"
     ]
    }
   ],
   "source": [
    "torch.mean(X)"
   ]
  },
  {
   "cell_type": "code",
   "execution_count": 45,
   "id": "e7bc4037-d536-44a4-b2cf-41b061a96acf",
   "metadata": {},
   "outputs": [
    {
     "name": "stdout",
     "output_type": "stream",
     "text": [
      "mean: 10.0\n"
     ]
    }
   ],
   "source": [
    "X_f32=X.type(torch.float32) #Changing dtype\n",
    "print(f\"mean: {torch.mean(X_f32)}\") "
   ]
  },
  {
   "cell_type": "code",
   "execution_count": 46,
   "id": "000f4a0f-23b4-4d82-b5d2-df421f3fc06b",
   "metadata": {},
   "outputs": [
    {
     "data": {
      "text/plain": [
       "tensor(90)"
      ]
     },
     "execution_count": 46,
     "metadata": {},
     "output_type": "execute_result"
    }
   ],
   "source": [
    "torch.sum(X)"
   ]
  },
  {
   "cell_type": "markdown",
   "id": "b37e56dc-654d-454e-843a-b3f2b3f796bb",
   "metadata": {},
   "source": [
    "### Finding position min,max"
   ]
  },
  {
   "cell_type": "code",
   "execution_count": 47,
   "id": "a173b432-c5d7-4628-883f-8e11e0b350db",
   "metadata": {},
   "outputs": [
    {
     "data": {
      "text/plain": [
       "tensor(0)"
      ]
     },
     "execution_count": 47,
     "metadata": {},
     "output_type": "execute_result"
    }
   ],
   "source": [
    "torch.argmin(X) #Returns index of minimum value"
   ]
  },
  {
   "cell_type": "code",
   "execution_count": 48,
   "id": "3aac8b35-5eb8-4c6f-9ada-8e856f5fd9e9",
   "metadata": {},
   "outputs": [
    {
     "data": {
      "text/plain": [
       "tensor(8)"
      ]
     },
     "execution_count": 48,
     "metadata": {},
     "output_type": "execute_result"
    }
   ],
   "source": [
    "torch.argmax(X)"
   ]
  },
  {
   "cell_type": "markdown",
   "id": "899ee2df-3cf8-4b04-8312-28d46d7eb234",
   "metadata": {},
   "source": [
    "## Reshaping, stacking, Squeezing, Views"
   ]
  },
  {
   "cell_type": "markdown",
   "id": "085a7237-c476-4015-a19e-a31c77e295dc",
   "metadata": {},
   "source": [
    "### Reshape"
   ]
  },
  {
   "cell_type": "code",
   "execution_count": 90,
   "id": "9939c8f2-15a8-44a5-ac02-84f0f93233c7",
   "metadata": {},
   "outputs": [
    {
     "data": {
      "text/plain": [
       "tensor([[0.8867, 0.9247, 0.5803, 0.7408, 0.5056, 0.3079, 0.6024, 0.4905]])"
      ]
     },
     "execution_count": 90,
     "metadata": {},
     "output_type": "execute_result"
    }
   ],
   "source": [
    "import torch\n",
    "\n",
    "x = torch.rand(1,8)\n",
    "x"
   ]
  },
  {
   "cell_type": "code",
   "execution_count": 91,
   "id": "eec41f13-f6f5-4053-a541-36c18adfe869",
   "metadata": {},
   "outputs": [
    {
     "data": {
      "text/plain": [
       "tensor([[0.8867],\n",
       "        [0.9247],\n",
       "        [0.5803],\n",
       "        [0.7408],\n",
       "        [0.5056],\n",
       "        [0.3079],\n",
       "        [0.6024],\n",
       "        [0.4905]])"
      ]
     },
     "execution_count": 91,
     "metadata": {},
     "output_type": "execute_result"
    }
   ],
   "source": [
    "#changing tensor dimensions, reshape needs to fit all elements of original tensor\n",
    "x_reshaped = x.reshape (8,1)\n",
    "x_reshaped"
   ]
  },
  {
   "cell_type": "code",
   "execution_count": 92,
   "id": "9947c6ed-7f98-4920-8457-8fd800c76f30",
   "metadata": {},
   "outputs": [
    {
     "name": "stdout",
     "output_type": "stream",
     "text": [
      "tensor([[0.0000],\n",
      "        [0.9247],\n",
      "        [0.5803],\n",
      "        [0.7408],\n",
      "        [0.5056],\n",
      "        [0.3079],\n",
      "        [0.6024],\n",
      "        [0.4905]])\n",
      "tensor([[0.0000, 0.9247, 0.5803, 0.7408, 0.5056, 0.3079, 0.6024, 0.4905]])\n"
     ]
    }
   ],
   "source": [
    "#Reshape is sometimes same memory but sometimes a copy and you cannot depend on it (depends upon contiguous and \"strides\")\n",
    "#If you want same memory explicitly use view\n",
    "x_reshaped[0]=0\n",
    "print(x_reshaped)\n",
    "print(x)"
   ]
  },
  {
   "cell_type": "markdown",
   "id": "8d3516b8-f157-46a4-8ab0-4cf207ed2108",
   "metadata": {},
   "source": [
    "### View"
   ]
  },
  {
   "cell_type": "code",
   "execution_count": 80,
   "id": "23eca512-8fe6-4855-a0b8-7f8e2802c2dc",
   "metadata": {},
   "outputs": [
    {
     "data": {
      "text/plain": [
       "tensor([[0.6851, 0.8995, 0.3796, 0.5805],\n",
       "        [0.2926, 0.0047, 0.9823, 0.3803]])"
      ]
     },
     "execution_count": 80,
     "metadata": {},
     "output_type": "execute_result"
    }
   ],
   "source": [
    "#Same as reshape, but uses same memory as original tensor (Pointer)\n",
    "z= x.view(2,4)\n",
    "z"
   ]
  },
  {
   "cell_type": "code",
   "execution_count": 82,
   "id": "3b6a8951-4ab6-4880-846c-d630840d41fe",
   "metadata": {},
   "outputs": [
    {
     "name": "stdout",
     "output_type": "stream",
     "text": [
      "tensor([[0.0000, 0.8995, 0.3796, 0.5805, 0.2926, 0.0047, 0.9823, 0.3803]])\n",
      "tensor([[0.0000, 0.8995, 0.3796, 0.5805],\n",
      "        [0.2926, 0.0047, 0.9823, 0.3803]])\n"
     ]
    }
   ],
   "source": [
    "z[0,0] = 0\n",
    "#Changing value in z results in change of x as well\n",
    "print(x)\n",
    "print(z)"
   ]
  },
  {
   "cell_type": "code",
   "execution_count": 83,
   "id": "07a8b16b-9ec4-4e6e-a812-276e4b9ffa75",
   "metadata": {},
   "outputs": [
    {
     "name": "stdout",
     "output_type": "stream",
     "text": [
      "tensor([[0.0000],\n",
      "        [0.8995],\n",
      "        [0.3796],\n",
      "        [0.5805],\n",
      "        [0.2926],\n",
      "        [0.0047],\n",
      "        [0.9823],\n",
      "        [0.3803]])\n",
      "tensor([[0.0000, 0.8995, 0.3796, 0.5805, 0.2926, 0.0047, 0.9823, 0.3803]])\n"
     ]
    }
   ],
   "source": []
  },
  {
   "cell_type": "markdown",
   "id": "ea029bc6-971f-41f7-aa12-70f46b1bb8d3",
   "metadata": {},
   "source": [
    "### Stack"
   ]
  },
  {
   "cell_type": "code",
   "execution_count": 99,
   "id": "8f211eba-7cb5-451c-853b-3b6f8c88f68b",
   "metadata": {},
   "outputs": [
    {
     "data": {
      "text/plain": [
       "tensor([[1, 2, 3, 4, 5],\n",
       "        [1, 2, 3, 4, 5],\n",
       "        [1, 2, 3, 4, 5],\n",
       "        [1, 2, 3, 4, 5]])"
      ]
     },
     "execution_count": 99,
     "metadata": {},
     "output_type": "execute_result"
    }
   ],
   "source": [
    "x = torch.tensor([1,2,3,4,5])\n",
    "x_stacked = torch.stack([x,x,x,x],dim=0) #default 0\n",
    "x_stacked"
   ]
  },
  {
   "cell_type": "code",
   "execution_count": 104,
   "id": "53dcb8a6-45a0-49e2-804d-bfc98ae28485",
   "metadata": {},
   "outputs": [
    {
     "data": {
      "text/plain": [
       "tensor([[1, 1, 1, 1],\n",
       "        [2, 2, 2, 2],\n",
       "        [3, 3, 3, 3],\n",
       "        [4, 4, 4, 4],\n",
       "        [5, 5, 5, 5]])"
      ]
     },
     "execution_count": 104,
     "metadata": {},
     "output_type": "execute_result"
    }
   ],
   "source": [
    "x_stacked = torch.stack([x,x,x,x],dim=1)\n",
    "x_stacked"
   ]
  },
  {
   "cell_type": "markdown",
   "id": "263f6155-87b4-4773-81c1-f5ea4fbaeab9",
   "metadata": {},
   "source": [
    "### Squeeze and Unsqueeze"
   ]
  },
  {
   "cell_type": "code",
   "execution_count": 124,
   "id": "a896088e-a4ee-4343-baa3-923653afa0dd",
   "metadata": {},
   "outputs": [
    {
     "name": "stdout",
     "output_type": "stream",
     "text": [
      "tensor([[[[0., 0.]],\n",
      "\n",
      "         [[0., 0.]]]]) torch.Size([1, 2, 1, 2])\n"
     ]
    }
   ],
   "source": [
    "#Fix dimensions mismatch\n",
    "x = torch.zeros(1,2,1,2)\n",
    "print(x,x.size())"
   ]
  },
  {
   "cell_type": "code",
   "execution_count": 140,
   "id": "966c93cc-52be-4a85-8ebe-40ad3e10c773",
   "metadata": {},
   "outputs": [
    {
     "name": "stdout",
     "output_type": "stream",
     "text": [
      "tensor([[0., 0.],\n",
      "        [0., 0.]]) torch.Size([2, 2])\n"
     ]
    }
   ],
   "source": [
    "#By default, removes any dim of 1 from entire tensor\n",
    "#If dim is specified, then removes the specific index of dim if it has dim 1 in torch.Size()\n",
    "y = torch.squeeze(x)\n",
    "print(y,y.size())"
   ]
  },
  {
   "cell_type": "code",
   "execution_count": 142,
   "id": "c8d73749-30fe-4474-b99b-079dc5411ba3",
   "metadata": {},
   "outputs": [
    {
     "name": "stdout",
     "output_type": "stream",
     "text": [
      "tensor([[[0., 0.]],\n",
      "\n",
      "        [[0., 0.]]]) torch.Size([2, 1, 2])\n"
     ]
    }
   ],
   "source": [
    "y = torch.squeeze(x,dim = 0) #Removing 1 dim from 0 index in torch.size of x\n",
    "print(y,y.size())"
   ]
  },
  {
   "cell_type": "code",
   "execution_count": 136,
   "id": "6fe91a21-d7fb-4dd7-9e2c-0b61e13d3475",
   "metadata": {},
   "outputs": [
    {
     "name": "stdout",
     "output_type": "stream",
     "text": [
      "tensor([[[0., 0.],\n",
      "         [0., 0.]]]) torch.Size([1, 2, 2])\n"
     ]
    }
   ],
   "source": [
    "#Add dim 1 in specified size index\n",
    "z = torch.unsqueeze(y,dim=0)\n",
    "print(z,z.size())"
   ]
  },
  {
   "cell_type": "markdown",
   "id": "1371bd96-66cb-4485-a3af-b0d3a5acad80",
   "metadata": {},
   "source": [
    "### Permute"
   ]
  },
  {
   "cell_type": "code",
   "execution_count": 147,
   "id": "97cd0ec0-ee41-459b-add5-b2d285bbbd5c",
   "metadata": {},
   "outputs": [],
   "source": [
    "# Common to re-arrange image data\n",
    "x = torch.rand(224,224,3) #size implicit call [height,width,color_channel]"
   ]
  },
  {
   "cell_type": "code",
   "execution_count": 152,
   "id": "fb105723-92c9-4878-9580-e66f4f3c2b96",
   "metadata": {},
   "outputs": [
    {
     "name": "stdout",
     "output_type": "stream",
     "text": [
      "Previous shape: torch.Size([224, 224, 3])\n",
      "Previous shape: torch.Size([3, 224, 224])\n"
     ]
    }
   ],
   "source": [
    "x_permute = x.permute(2,0,1) #shifting axis\n",
    "print(f\"Previous shape: {x.shape}\")\n",
    "print(f\"Previous shape: {x_permute.shape}\")"
   ]
  },
  {
   "cell_type": "code",
   "execution_count": 160,
   "id": "7c62cc43-2c9f-45a3-8a74-a54496246a2d",
   "metadata": {},
   "outputs": [
    {
     "data": {
      "text/plain": [
       "tensor(999.)"
      ]
     },
     "execution_count": 160,
     "metadata": {},
     "output_type": "execute_result"
    }
   ],
   "source": [
    "x[0,0,0] = 999\n",
    "x_permute[0,0,0]\n",
    "#They share the same memory"
   ]
  },
  {
   "cell_type": "markdown",
   "id": "5cf1f685-25f1-4e84-b413-37c3e53f5c73",
   "metadata": {},
   "source": [
    " ## Reproducability\n",
    " Pseudo-randomness for non-deterministic functions"
   ]
  },
  {
   "cell_type": "code",
   "execution_count": 3,
   "id": "7e5c056a-ca21-45e9-a2a0-14e337fa567e",
   "metadata": {},
   "outputs": [
    {
     "name": "stdout",
     "output_type": "stream",
     "text": [
      "tensor([[0.8823, 0.9150, 0.3829],\n",
      "        [0.9593, 0.3904, 0.6009],\n",
      "        [0.2566, 0.7936, 0.9408]])\n",
      "tensor([[0.1332, 0.9346, 0.5936],\n",
      "        [0.8694, 0.5677, 0.7411],\n",
      "        [0.4294, 0.8854, 0.5739]])\n"
     ]
    }
   ],
   "source": [
    "import torch\n",
    "#Setting manual seed only works for the successive non-deterministic code\n",
    "torch.manual_seed(42)\n",
    "A=torch.rand(3,3)\n",
    "B=torch.rand(3,3)\n",
    "print(A)\n",
    "print(B)\n"
   ]
  },
  {
   "cell_type": "markdown",
   "id": "bbfdf1a1-1058-46e6-9161-c012d1959ea5",
   "metadata": {},
   "source": [
    "#### Check https://pytorch.org/docs/stable/notes/randomness.html for more info"
   ]
  }
 ],
 "metadata": {
  "kernelspec": {
   "display_name": "Python 3 (ipykernel)",
   "language": "python",
   "name": "python3"
  },
  "language_info": {
   "codemirror_mode": {
    "name": "ipython",
    "version": 3
   },
   "file_extension": ".py",
   "mimetype": "text/x-python",
   "name": "python",
   "nbconvert_exporter": "python",
   "pygments_lexer": "ipython3",
   "version": "3.12.2"
  }
 },
 "nbformat": 4,
 "nbformat_minor": 5
}
