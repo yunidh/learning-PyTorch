{
 "cells": [
  {
   "cell_type": "markdown",
   "id": "a45a90a7-0c8f-4070-9755-8acf250d0d5f",
   "metadata": {},
   "source": [
    "# PyTorch Workflow "
   ]
  },
  {
   "cell_type": "code",
   "execution_count": 1,
   "id": "ad880cd2-6a42-41bd-a004-43215b86fd6a",
   "metadata": {},
   "outputs": [],
   "source": [
    "import torch\n",
    "from torch import nn #building blocks for neural networks, layer creation\n",
    "import matplotlib.pyplot as plt"
   ]
  },
  {
   "cell_type": "markdown",
   "id": "029708a5-4713-4b44-b209-83e66ebbd2d9",
   "metadata": {},
   "source": [
    "## Data prep and load"
   ]
  },
  {
   "cell_type": "markdown",
   "id": "f65f654c-67ee-4b5e-9f33-eb56b1429970",
   "metadata": {},
   "source": [
    "### Linear Regression example: to study input and output then let algorithm devise formula for regression\n",
    "y = a + bx"
   ]
  },
  {
   "cell_type": "code",
   "execution_count": 2,
   "id": "782806f7-0f3e-4b7b-ba3e-66f38828d895",
   "metadata": {},
   "outputs": [
    {
     "name": "stdout",
     "output_type": "stream",
     "text": [
      "tensor([[0.0000],\n",
      "        [0.0200],\n",
      "        [0.0400],\n",
      "        [0.0600],\n",
      "        [0.0800],\n",
      "        [0.1000],\n",
      "        [0.1200],\n",
      "        [0.1400],\n",
      "        [0.1600],\n",
      "        [0.1800]]) \n",
      " tensor([[0.3000],\n",
      "        [0.3140],\n",
      "        [0.3280],\n",
      "        [0.3420],\n",
      "        [0.3560],\n",
      "        [0.3700],\n",
      "        [0.3840],\n",
      "        [0.3980],\n",
      "        [0.4120],\n",
      "        [0.4260]])\n"
     ]
    }
   ],
   "source": [
    "weight = 0.7 #b\n",
    "bias = 0.3 #a\n",
    "\n",
    "start =0\n",
    "end =1\n",
    "step =0.02\n",
    "X = torch.arange(start,end,step).unsqueeze(dim=1)\n",
    "Y = weight*X + bias\n",
    "print(X[:10],\"\\n\", Y[:10])"
   ]
  },
  {
   "cell_type": "markdown",
   "id": "74f3a9c8-b5f4-424e-b5a4-67d4be630cc5",
   "metadata": {},
   "source": [
    "### Splitting test and train set (VERY IMP)"
   ]
  },
  {
   "cell_type": "code",
   "execution_count": 3,
   "id": "f9a9b34b-5ee7-4a1b-bdba-68837c4f3346",
   "metadata": {},
   "outputs": [],
   "source": [
    "train_set = int(0.8*len(X))\n",
    "X_train,X_test = X[:train_set],X[train_set:]\n",
    "Y_train,Y_test = Y[:train_set],Y[train_set:]\n"
   ]
  },
  {
   "cell_type": "code",
   "execution_count": 4,
   "id": "8372118a-9645-45f7-a54f-3084ce98a045",
   "metadata": {},
   "outputs": [
    {
     "data": {
      "text/plain": [
       "10"
      ]
     },
     "execution_count": 4,
     "metadata": {},
     "output_type": "execute_result"
    }
   ],
   "source": [
    "len(Y_test)"
   ]
  },
  {
   "cell_type": "code",
   "execution_count": 15,
   "id": "66f9df60-2991-48d6-8096-fa3979f6d19c",
   "metadata": {},
   "outputs": [],
   "source": [
    "def plot_predictions(train_data=X_train,\n",
    "                     train_label=Y_train,\n",
    "                     test_data=X_test,\n",
    "                     test_label=Y_test,\n",
    "                    predictions = None):\n",
    "    plt.figure(figsize = (9,6))\n",
    "\n",
    "    #train data blue\n",
    "    plt.scatter(train_data,train_label,c='b',s=4,label = \"Training Data\")\n",
    "    \n",
    "    #test data green\n",
    "    plt.scatter(test_data,test_label,c='g',s=4,label = \"Test Data\")\n",
    "\n",
    "    if predictions is not None:\n",
    "        plt.scatter(test_data,predictions,c='r',s=4,label='Predictions')\n",
    "\n",
    "    plt.legend(prop={'size':14}) \n"
   ]
  },
  {
   "cell_type": "code",
   "execution_count": 16,
   "id": "b15dc8b6-fa3b-4d56-b13b-81719d64122d",
   "metadata": {},
   "outputs": [
    {
     "data": {
      "image/png": "[encoded data removed]",
      "text/plain": [
       "<Figure size 900x600 with 1 Axes>"
      ]
     },
     "metadata": {},
     "output_type": "display_data"
    }
   ],
   "source": [
    "plot_predictions()"
   ]
  },
  {
   "cell_type": "markdown",
   "id": "c75f9774-4d4b-4ed9-867d-2131b1973a8f",
   "metadata": {},
   "source": [
    "### Creating Linear Regression Model"
   ]
  },
  {
   "cell_type": "code",
   "execution_count": 46,
   "id": "0c0b3835-564f-4f03-9a6e-694f5dc3273e",
   "metadata": {},
   "outputs": [],
   "source": [
    "class LinearRegressionModel(nn.Module): #inhereting nn.Module, foundation for NNs\n",
    "    def __init__(self):\n",
    "        super().__init__() #calls parent init functions\n",
    "        self.weights = nn.Parameter(torch.rand(1,requires_grad=True,dtype=torch.float))\n",
    "        self.bias = nn.Parameter(torch.rand(1,requires_grad=True,dtype=torch.float))\n",
    "\n",
    "        #Forward method for computation:\n",
    "    def forward(self,x:torch.Tensor) ->torch.Tensor:\n",
    "            return self.weights * x + self.bias\n",
    "        "
   ]
  },
  {
   "cell_type": "markdown",
   "id": "ed64671a-71ae-4d8f-941a-8174916907fe",
   "metadata": {},
   "source": [
    "### PyTorch model building "
   ]
  },
  {
   "cell_type": "markdown",
   "id": "c014d2c8-1e6a-48f8-8450-3af2f774ca17",
   "metadata": {},
   "source": [
    "* torch.nn - building blocks for computational graphs (neural networks)\n",
    " * torch.nn.Module - base class for neural network modules, basically different layer creation, **forward** method must be redefined if subclassed\n",
    "* torch.nn.Parameter - what parameters(weights/bias) the model should change, if requires_grad = True then gradient descent is calculated automatically (autograd)\n",
    "* torch.nn.optim - optimizers for parameters to efficiently calculate gradient descent\n",
    "  "
   ]
  },
  {
   "cell_type": "markdown",
   "id": "c5cd0adc-8438-402b-be23-6c0e6077db63",
   "metadata": {},
   "source": [
    "### Creating sample model to check params"
   ]
  },
  {
   "cell_type": "code",
   "execution_count": 47,
   "id": "125f6bfc-d976-40e6-bf0f-6822e62ee009",
   "metadata": {},
   "outputs": [
    {
     "data": {
      "text/plain": [
       "OrderedDict([('weights', tensor([0.8823])), ('bias', tensor([0.9150]))])"
      ]
     },
     "execution_count": 47,
     "metadata": {},
     "output_type": "execute_result"
    }
   ],
   "source": [
    "torch.manual_seed(42)\n",
    "model_0 = LinearRegressionModel()\n",
    "model_0.state_dict() #list the named parameters of the model"
   ]
  },
  {
   "cell_type": "code",
   "execution_count": 48,
   "id": "d2bae1c0-1102-40d3-adb9-df33c4c8fc29",
   "metadata": {},
   "outputs": [
    {
     "data": {
      "text/plain": [
       "[Parameter containing:\n",
       " tensor([0.8823], requires_grad=True),\n",
       " Parameter containing:\n",
       " tensor([0.9150], requires_grad=True)]"
      ]
     },
     "execution_count": 48,
     "metadata": {},
     "output_type": "execute_result"
    }
   ],
   "source": [
    "list(model_0.parameters())"
   ]
  },
  {
   "cell_type": "markdown",
   "id": "fe3ea2a6-c4a7-4755-959b-0c448e280e2b",
   "metadata": {},
   "source": [
    "### Making predictions with `torch.inference_mode()`\n",
    "Passing X_test data to model to pass values through forward(), it computes Y_test value"
   ]
  },
  {
   "cell_type": "code",
   "execution_count": 49,
   "id": "567e137c-cb79-4fd2-9c2c-29091e504b93",
   "metadata": {},
   "outputs": [
    {
     "data": {
      "text/plain": [
       "tensor([[1.6208],\n",
       "        [1.6385],\n",
       "        [1.6561],\n",
       "        [1.6738],\n",
       "        [1.6914],\n",
       "        [1.7090],\n",
       "        [1.7267],\n",
       "        [1.7443],\n",
       "        [1.7620],\n",
       "        [1.7796]])"
      ]
     },
     "execution_count": 49,
     "metadata": {},
     "output_type": "execute_result"
    }
   ],
   "source": [
    "with torch.inference_mode(): #disables background gradient tracking for faster computation\n",
    "    y_preds_noTrain = model_0(X_test)\n",
    "y_preds_noTrain"
   ]
  },
  {
   "cell_type": "code",
   "execution_count": 50,
   "id": "bb0484e1-573a-4def-ad8f-5c14920304a0",
   "metadata": {},
   "outputs": [
    {
     "data": {
      "image/png": "[encoded data removed]",
      "text/plain": [
       "<Figure size 900x600 with 1 Axes>"
      ]
     },
     "metadata": {},
     "output_type": "display_data"
    }
   ],
   "source": [
    "plot_predictions(predictions = y_preds_noTrain) #Before training"
   ]
  },
  {
   "cell_type": "markdown",
   "id": "8a6de55b-e1aa-43a9-84d6-d4cc579587f3",
   "metadata": {},
   "source": [
    "## Training our model \n",
    "* loss function/cost function/criterion : check how wrong predictions are, lower is better\n",
    "* optimizer : adjusting parameters based on loss function result\n",
    "\n",
    "#### For PyTorch, we need:\n",
    "* training loop\n",
    "* testing loop\n",
    "  "
   ]
  },
  {
   "cell_type": "code",
   "execution_count": 51,
   "id": "96f75cd0-171c-43b5-8a34-74e28bc7c58e",
   "metadata": {},
   "outputs": [],
   "source": [
    "#Setting up Loss function,\n",
    "loss_fn = nn.L1Loss()\n",
    "#Setting up optimizer, \n",
    "optimizer = torch.optim.SGD(model_0.parameters(),\n",
    "                           lr = 0.01) #parameter = computer will set, hyperparameter = we will set"
   ]
  },
  {
   "cell_type": "markdown",
   "id": "ac289827-b3d0-4657-b11c-7b7929c5831d",
   "metadata": {},
   "source": [
    "### Building training and testing loops"
   ]
  },
  {
   "cell_type": "code",
   "execution_count": 52,
   "id": "78a6391e-933a-4745-b2a0-38c10c5bf2b6",
   "metadata": {},
   "outputs": [
    {
     "name": "stdout",
     "output_type": "stream",
     "text": [
      "Epoch: 0, Loss:0.6860889196395874,Test Loss:0.7637526988983154\n",
      "OrderedDict({'weights': tensor([0.8784]), 'bias': tensor([0.9050])})\n",
      "Epoch: 10, Loss:0.5708791017532349,Test Loss:0.6290428042411804\n",
      "OrderedDict({'weights': tensor([0.8394]), 'bias': tensor([0.8050])})\n",
      "Epoch: 20, Loss:0.45566922426223755,Test Loss:0.4943329691886902\n",
      "OrderedDict({'weights': tensor([0.8004]), 'bias': tensor([0.7050])})\n",
      "Epoch: 30, Loss:0.34045934677124023,Test Loss:0.35962313413619995\n",
      "OrderedDict({'weights': tensor([0.7614]), 'bias': tensor([0.6050])})\n",
      "Epoch: 40, Loss:0.2252494841814041,Test Loss:0.2249133139848709\n",
      "OrderedDict({'weights': tensor([0.7224]), 'bias': tensor([0.5050])})\n",
      "Epoch: 50, Loss:0.1100396141409874,Test Loss:0.09020347893238068\n",
      "OrderedDict({'weights': tensor([0.6834]), 'bias': tensor([0.4050])})\n",
      "Epoch: 60, Loss:0.009724985808134079,Test Loss:0.020998019725084305\n",
      "OrderedDict({'weights': tensor([0.6539]), 'bias': tensor([0.3200])})\n",
      "Epoch: 70, Loss:0.006216754671186209,Test Loss:0.014099234715104103\n",
      "OrderedDict({'weights': tensor([0.6707]), 'bias': tensor([0.3120])})\n",
      "Epoch: 80, Loss:0.002788322512060404,Test Loss:0.005826681852340698\n",
      "OrderedDict({'weights': tensor([0.6878]), 'bias': tensor([0.3050])})\n",
      "Epoch: 90, Loss:0.007095950655639172,Test Loss:0.00754010071977973\n",
      "OrderedDict({'weights': tensor([0.6938]), 'bias': tensor([0.2980])})\n"
     ]
    }
   ],
   "source": [
    "torch.manual_seed(42)\n",
    "epochs = 100 \n",
    "\n",
    "#Lists to store counts and values\n",
    "epoch_count = []\n",
    "loss_values = []\n",
    "test_loss_values = []\n",
    "for epoch in range(epochs):\n",
    "    \n",
    "    ###Training\n",
    "    model_0.train() # turns on background features needed for training\n",
    "    #1. Forward pass\n",
    "    y_preds = model_0(X_train)\n",
    "    #2. Loss calculation\n",
    "    loss = loss_fn(y_preds,Y_train)\n",
    "    #3. Optimizer zero grad\n",
    "    optimizer.zero_grad()\n",
    "    #4. Backpropagation with respect to loss\n",
    "    loss.backward()\n",
    "    #5. Optimizer step, apply gradient descent \n",
    "    optimizer.step()\n",
    "    \n",
    "    ###Testing\n",
    "    model_0.eval() #turns off various background training features not needed for testing\n",
    "    with torch.inference_mode():\n",
    "        test_preds = model_0(X_test) #Forward pass\n",
    "        test_loss = loss_fn(test_preds,Y_test) #Loss calculation\n",
    "        epoch_count.append(epoch)\n",
    "        loss_values.append(loss)\n",
    "        test_loss_values.append(test_loss)\n",
    "    if epoch % 10 == 0:\n",
    "       \n",
    "        print(f\"Epoch: {epoch}, Loss:{loss},Test Loss:{test_loss}\")\n",
    "        print(model_0.state_dict())\n"
   ]
  },
  {
   "cell_type": "code",
   "execution_count": 53,
   "id": "d606fd8a-4d59-48b1-acb7-71245a4c8df8",
   "metadata": {},
   "outputs": [
    {
     "data": {
      "image/png": "[encoded data removed]",
      "text/plain": [
       "<Figure size 900x600 with 1 Axes>"
      ]
     },
     "metadata": {},
     "output_type": "display_data"
    }
   ],
   "source": [
    "plot_predictions(predictions=test_preds) #after training"
   ]
  },
  {
   "cell_type": "code",
   "execution_count": 58,
   "id": "f4ba67d0-25e4-4ae4-a495-eb9d0793c827",
   "metadata": {},
   "outputs": [
    {
     "data": {
      "text/plain": [
       "Text(0.5, 1.0, 'Train/Test loss curves')"
      ]
     },
     "execution_count": 58,
     "metadata": {},
     "output_type": "execute_result"
    },
    {
     "data": {
      "image/png": "[encoded data removed]",
      "text/plain": [
       "<Figure size 640x480 with 1 Axes>"
      ]
     },
     "metadata": {},
     "output_type": "display_data"
    }
   ],
   "source": [
    "import numpy as np\n",
    "plt.plot(epoch_count,np.array(torch.tensor(loss_values).numpy()),label = \"Training loss\")\n",
    "plt.plot(epoch_count,test_loss_values,label = \"Test loss\")\n",
    "plt.title(\"Train/Test loss curves\")"
   ]
  },
  {
   "cell_type": "markdown",
   "id": "b87dea6c-639c-497b-8643-663a8d217289",
   "metadata": {},
   "source": [
    "### Saving models \n",
    "1. `torch.save()` - saves Pytorch object in pickle format\n",
    "2. `torch.load()` - loads saved object\n",
    "3. `torch.nn.Module.load_state_dict()` - loads saved state dictionary (state of parameters)"
   ]
  },
  {
   "cell_type": "code",
   "execution_count": 60,
   "id": "3f773772-d9af-4345-a9f3-ebb371790ad0",
   "metadata": {},
   "outputs": [
    {
     "data": {
      "text/plain": [
       "OrderedDict([('weights', tensor([0.6977])), ('bias', tensor([0.3080]))])"
      ]
     },
     "execution_count": 60,
     "metadata": {},
     "output_type": "execute_result"
    }
   ],
   "source": [
    "model_0.state_dict()"
   ]
  },
  {
   "cell_type": "code",
   "execution_count": 78,
   "id": "6a22e034-b537-4ece-aadb-677a5df195f9",
   "metadata": {},
   "outputs": [
    {
     "data": {
      "text/plain": [
       "WindowsPath('models/01_pytorch_workflow_model_0.pth')"
      ]
     },
     "execution_count": 78,
     "metadata": {},
     "output_type": "execute_result"
    }
   ],
   "source": [
    "from pathlib import Path\n",
    "#1.Create model directory\n",
    "MODEL_PATH = Path(\"models\")\n",
    "MODEL_PATH.mkdir(parents = True,exist_ok = True) #no error if already exists\n",
    "#2. Create model save path\n",
    "MODEL_NAME = \"01_pytorch_workflow_model_0.pth\"\n",
    "save_path = MODEL_PATH/MODEL_NAME\n",
    "#3. Save model\n",
    "torch.save(model_0.state_dict(),save_path)\n",
    "save_path"
   ]
  },
  {
   "cell_type": "markdown",
   "id": "d5612f78-8a75-4fb3-8923-84b66d4d7335",
   "metadata": {},
   "source": [
    "### Loading models "
   ]
  },
  {
   "cell_type": "code",
   "execution_count": 79,
   "id": "86e660c1-fd8e-4aa7-960c-a6aef7578d5b",
   "metadata": {},
   "outputs": [
    {
     "data": {
      "text/plain": [
       "<All keys matched successfully>"
      ]
     },
     "execution_count": 79,
     "metadata": {},
     "output_type": "execute_result"
    }
   ],
   "source": [
    "#Create new model from same class\n",
    "model_1 = LinearRegressionModel()\n",
    "#Loading saved `state_dict()` from saved path\n",
    "model_1.load_state_dict(torch.load(save_path))"
   ]
  },
  {
   "cell_type": "code",
   "execution_count": 80,
   "id": "075a72ea-a26a-4d8e-ade7-ed148eec7668",
   "metadata": {},
   "outputs": [
    {
     "data": {
      "text/plain": [
       "OrderedDict([('weights', tensor([0.6977])), ('bias', tensor([0.3080]))])"
      ]
     },
     "execution_count": 80,
     "metadata": {},
     "output_type": "execute_result"
    }
   ],
   "source": [
    "model_1.state_dict()"
   ]
  },
  {
   "cell_type": "code",
   "execution_count": 86,
   "id": "ee045eea-08b2-4ef2-8b11-04cc764e74e1",
   "metadata": {},
   "outputs": [
    {
     "data": {
      "text/plain": [
       "tensor([[0.8661],\n",
       "        [0.8801],\n",
       "        [0.8940],\n",
       "        [0.9080],\n",
       "        [0.9220],\n",
       "        [0.9359],\n",
       "        [0.9499],\n",
       "        [0.9638],\n",
       "        [0.9778],\n",
       "        [0.9917]])"
      ]
     },
     "execution_count": 86,
     "metadata": {},
     "output_type": "execute_result"
    }
   ],
   "source": [
    "model_1.eval()\n",
    "with torch.inference_mode():\n",
    "    test_preds_loaded = model_1(X_test)\n",
    "y_preds_loaded"
   ]
  },
  {
   "cell_type": "code",
   "execution_count": 87,
   "id": "3a0e1d42-57cf-49e4-97b8-9ca397b20fb0",
   "metadata": {},
   "outputs": [
    {
     "data": {
      "text/plain": [
       "tensor([[True],\n",
       "        [True],\n",
       "        [True],\n",
       "        [True],\n",
       "        [True],\n",
       "        [True],\n",
       "        [True],\n",
       "        [True],\n",
       "        [True],\n",
       "        [True]])"
      ]
     },
     "execution_count": 87,
     "metadata": {},
     "output_type": "execute_result"
    }
   ],
   "source": [
    "test_preds == test_preds_loaded"
   ]
  }
 ],
 "metadata": {
  "kernelspec": {
   "display_name": "Python 3 (ipykernel)",
   "language": "python",
   "name": "python3"
  },
  "language_info": {
   "codemirror_mode": {
    "name": "ipython",
    "version": 3
   },
   "file_extension": ".py",
   "mimetype": "text/x-python",
   "name": "python",
   "nbconvert_exporter": "python",
   "pygments_lexer": "ipython3",
   "version": "3.12.2"
  }
 },
 "nbformat": 4,
 "nbformat_minor": 5
}
